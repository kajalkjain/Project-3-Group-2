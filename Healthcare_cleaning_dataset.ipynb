{
 "cells": [
  {
   "cell_type": "code",
   "execution_count": 2,
   "id": "a2dade96-7931-48df-9e2c-76498daa2bee",
   "metadata": {},
   "outputs": [],
   "source": [
    "import pandas as pd\n",
    "import csv"
   ]
  },
  {
   "cell_type": "code",
   "execution_count": 3,
   "id": "7b626a53-900a-4f63-91da-fae5ebc3987c",
   "metadata": {},
   "outputs": [
    {
     "name": "stdout",
     "output_type": "stream",
     "text": [
      "['Name', 'Age', 'Gender', 'Blood Type', 'Medical Condition', 'Date of Admission', 'Doctor', 'Hospital', 'Insurance Provider', 'Billing Amount', 'Room Number', 'Admission Type', 'Discharge Date', 'Medication', 'Test Results']\n"
     ]
    }
   ],
   "source": [
    "# Load the CSV file into a DataFrame\n",
    "data_origin = pd.read_csv(\"C:/Users/61433/Desktop/Project-3-Group-2/Data\\healthcare_dataset.csv\")\n",
    "\n",
    "# Open the CSV file and list the headers using CSV library\n",
    "with open(\"C:/Users/61433/Desktop/Project-3-Group-2/Data/healthcare_dataset.csv\", mode='r') as file:\n",
    "    reader = csv.reader(file)\n",
    "    headers = next(reader)  # Get the first row as headers\n",
    "\n",
    "print(headers)"
   ]
  },
  {
   "cell_type": "code",
   "execution_count": 4,
   "id": "cd46ca1d-55ad-46a5-aed5-c8dc42429231",
   "metadata": {},
   "outputs": [],
   "source": [
    "# Get 1000 random rows\n",
    "df = data_origin.sample(n=1000, random_state=1, replace=True)\n",
    "\n",
    "#save these random rows to a new CSV file\n",
    "df.to_csv('random_rows.csv', index=False)\n",
    "\n"
   ]
  },
  {
   "cell_type": "code",
   "execution_count": 5,
   "id": "91f0971d-e481-4c66-8c26-d16908326446",
   "metadata": {},
   "outputs": [
    {
     "name": "stdout",
     "output_type": "stream",
     "text": [
      "                     Name  Age  Gender Blood Type Medical Condition  \\\n",
      "33003         Jon Proctor   58  Female         A-          Diabetes   \n",
      "12172    Michelle Roberts   28  Female         B-            Asthma   \n",
      "5192   Robert Daniels Jr.   78    Male         A+         Arthritis   \n",
      "32511       Glenn Estrada   33  Female         B-         Arthritis   \n",
      "50057        Brenda Davis   42  Female         B-            Cancer   \n",
      "43723       Mackenzie Cox   48  Female         B+            Cancer   \n",
      "7813         Michael Kemp   51  Female        AB+          Diabetes   \n",
      "52047        April Reeves   65    Male         O-          Diabetes   \n",
      "21440          Dawn Avila   64    Male         O-      Hypertension   \n",
      "32912        Jonathan Lee   27  Female         B-            Cancer   \n",
      "\n",
      "      Date of Admission            Doctor                      Hospital  \\\n",
      "33003        2023-02-18      James Nelson                Griffin-Foster   \n",
      "12172        2020-09-04         Lisa Hess      Walker Blake, And Hughes   \n",
      "5192         2022-11-22   Nicholas Graves                 Robles-Fisher   \n",
      "32511        2021-05-25   Matthew Goodman                Nixon Sons And   \n",
      "50057        2021-03-16       Eric Hudson                    Curtis Plc   \n",
      "43723        2021-08-06       Tyler Green                    Garcia Ltd   \n",
      "7813         2023-06-26    Bobby Benjamin                Jones Sons And   \n",
      "52047        2021-12-03   Gwendolyn Davis  Hernandez Foster, And Martin   \n",
      "21440        2020-06-13      Mary Watkins   Garcia Roberson Taylor, And   \n",
      "32912        2020-06-30  Alison Rodriguez                     Hart-Pena   \n",
      "\n",
      "      Insurance Provider  Billing Amount  Room Number Admission Type  \\\n",
      "33003              Cigna    19092.692951          491       Elective   \n",
      "12172           Medicare    11346.545701          216         Urgent   \n",
      "5192               Aetna    37084.986334          257      Emergency   \n",
      "32511           Medicare    45310.630922          388      Emergency   \n",
      "50057              Cigna    36569.665156          268      Emergency   \n",
      "43723         Blue Cross     3714.930585          304      Emergency   \n",
      "7813            Medicare    48365.584175          370       Elective   \n",
      "52047           Medicare    29193.386039          286      Emergency   \n",
      "21440         Blue Cross    32418.940388          246         Urgent   \n",
      "32912           Medicare    20453.502562          232       Elective   \n",
      "\n",
      "      Discharge Date   Medication  Test Results  \n",
      "33003     2023-03-14      Aspirin  Inconclusive  \n",
      "12172     2020-09-27  Paracetamol  Inconclusive  \n",
      "5192      2022-12-15   Penicillin        Normal  \n",
      "32511     2021-06-17    Ibuprofen        Normal  \n",
      "50057     2021-04-09      Lipitor      Abnormal  \n",
      "43723     2021-08-24    Ibuprofen        Normal  \n",
      "7813      2023-07-26  Paracetamol      Abnormal  \n",
      "52047     2021-12-29      Aspirin  Inconclusive  \n",
      "21440     2020-07-07    Ibuprofen      Abnormal  \n",
      "32912     2020-07-18  Paracetamol        Normal  \n"
     ]
    }
   ],
   "source": [
    "# Standardize capitalisation\n",
    "df['Name'] = df['Name'].str.title()\n",
    "df['Doctor'] = df['Doctor'].str.title()\n",
    "df['Hospital'] = df['Hospital'].str.title()\n",
    "df['Medical Condition'] = df['Medical Condition'].str.capitalize()\n",
    "df['Gender'] = df['Gender'].str.capitalize()\n",
    "df['Test Results'] = df['Test Results'].str.capitalize()\n",
    "df['Medication'] = df['Medication'].str.capitalize()\n",
    "\n",
    "# Data type conversion\n",
    "df['Age'] = df['Age'].astype(int)\n",
    "df['Billing Amount'] = df['Billing Amount'].astype(float)\n",
    "df['Room Number'] = df['Room Number'].astype(int)\n",
    "\n",
    "# dropping missing values\n",
    "df = df.dropna() \n",
    "\n",
    "#Standardize categorical data\n",
    "df['Blood Type'] = df['Blood Type'].str.upper()\n",
    "df['Admission Type'] = df['Admission Type'].str.capitalize()\n",
    "\n",
    "# Removing titles from names \n",
    "df['Name'] = df['Name'].str.replace(r'\\b(Dr\\.?|Mrs\\.?|Ms\\.?|Mr\\.?)\\s*', '', regex=True)\n",
    "\n",
    "# Remove duplicates\n",
    "df = df.drop_duplicates()\n",
    "\n",
    "first_10_records = df.head(10)\n",
    "print(first_10_records)\n"
   ]
  },
  {
   "cell_type": "code",
   "execution_count": 6,
   "id": "40bd1084-f1d2-4a1b-8618-4722aa90f489",
   "metadata": {},
   "outputs": [
    {
     "name": "stdout",
     "output_type": "stream",
     "text": [
      "Index(['Name', 'Age', 'Gender', 'Blood Type', 'Medical Condition',\n",
      "       'Date of Admission', 'Doctor', 'Hospital', 'Insurance Provider',\n",
      "       'Billing Amount', 'Room Number', 'Admission Type', 'Discharge Date',\n",
      "       'Medication', 'Test Results'],\n",
      "      dtype='object')\n"
     ]
    }
   ],
   "source": [
    "print(df.columns)"
   ]
  },
  {
   "cell_type": "code",
   "execution_count": 7,
   "id": "bba0365e-6635-499d-8e79-de956d5c0210",
   "metadata": {},
   "outputs": [
    {
     "name": "stdout",
     "output_type": "stream",
     "text": [
      "                     Name  Age  Gender Blood Type Medical Condition  \\\n",
      "33003         Jon Proctor   58  Female         A-          Diabetes   \n",
      "12172    Michelle Roberts   28  Female         B-            Asthma   \n",
      "5192   Robert Daniels Jr.   78    Male         A+         Arthritis   \n",
      "32511       Glenn Estrada   33  Female         B-         Arthritis   \n",
      "50057        Brenda Davis   42  Female         B-            Cancer   \n",
      "\n",
      "      Date of Admission           Doctor                  Hospital  \\\n",
      "33003        2023-02-18     James Nelson            Griffin-Foster   \n",
      "12172        2020-09-04        Lisa Hess  Walker Blake, And Hughes   \n",
      "5192         2022-11-22  Nicholas Graves             Robles-Fisher   \n",
      "32511        2021-05-25  Matthew Goodman            Nixon Sons And   \n",
      "50057        2021-03-16      Eric Hudson                Curtis Plc   \n",
      "\n",
      "      Insurance Provider  Billing Amount  Room Number Admission Type  \\\n",
      "33003              Cigna    19092.692951          491       Elective   \n",
      "12172           Medicare    11346.545701          216         Urgent   \n",
      "5192               Aetna    37084.986334          257      Emergency   \n",
      "32511           Medicare    45310.630922          388      Emergency   \n",
      "50057              Cigna    36569.665156          268      Emergency   \n",
      "\n",
      "      Discharge Date   Medication  Test Results First_name    Last_name  \n",
      "33003     2023-03-14      Aspirin  Inconclusive        Jon      Proctor  \n",
      "12172     2020-09-27  Paracetamol  Inconclusive   Michelle      Roberts  \n",
      "5192      2022-12-15   Penicillin        Normal     Robert  Daniels Jr.  \n",
      "32511     2021-06-17    Ibuprofen        Normal      Glenn      Estrada  \n",
      "50057     2021-04-09      Lipitor      Abnormal     Brenda        Davis  \n"
     ]
    }
   ],
   "source": [
    "# Ensure all values in 'Name' are strings\n",
    "df['Name'] = df['Name'].astype(str)\n",
    "\n",
    "# Function to split names\n",
    "def split_name(name):\n",
    "    parts = name.split(' ', 1)\n",
    "    first_name = parts[0]\n",
    "    last_name = parts[1] if len(parts) > 1 else None\n",
    "    return pd.Series([first_name, last_name])\n",
    "\n",
    "# Apply the function to the 'Name' column and create 'First_name' and 'Last_name' columns\n",
    "df[['First_name', 'Last_name']] = df['Name'].apply(split_name)\n",
    "\n",
    "# Display the first few rows to check the result\n",
    "print(df.head())"
   ]
  },
  {
   "cell_type": "code",
   "execution_count": 8,
   "id": "3dcb63b1-7f16-4cd9-8911-d0f7d1083c38",
   "metadata": {},
   "outputs": [
    {
     "name": "stdout",
     "output_type": "stream",
     "text": [
      "       Age  Gender Blood Type Medical Condition Date of Admission  \\\n",
      "33003   58  Female         A-          Diabetes        2023-02-18   \n",
      "12172   28  Female         B-            Asthma        2020-09-04   \n",
      "5192    78    Male         A+         Arthritis        2022-11-22   \n",
      "32511   33  Female         B-         Arthritis        2021-05-25   \n",
      "50057   42  Female         B-            Cancer        2021-03-16   \n",
      "\n",
      "                Doctor                  Hospital Insurance Provider  \\\n",
      "33003     James Nelson            Griffin-Foster              Cigna   \n",
      "12172        Lisa Hess  Walker Blake, And Hughes           Medicare   \n",
      "5192   Nicholas Graves             Robles-Fisher              Aetna   \n",
      "32511  Matthew Goodman            Nixon Sons And           Medicare   \n",
      "50057      Eric Hudson                Curtis Plc              Cigna   \n",
      "\n",
      "       Billing Amount  Room Number Admission Type Discharge Date   Medication  \\\n",
      "33003    19092.692951          491       Elective     2023-03-14      Aspirin   \n",
      "12172    11346.545701          216         Urgent     2020-09-27  Paracetamol   \n",
      "5192     37084.986334          257      Emergency     2022-12-15   Penicillin   \n",
      "32511    45310.630922          388      Emergency     2021-06-17    Ibuprofen   \n",
      "50057    36569.665156          268      Emergency     2021-04-09      Lipitor   \n",
      "\n",
      "       Test Results First_name    Last_name  \n",
      "33003  Inconclusive        Jon      Proctor  \n",
      "12172  Inconclusive   Michelle      Roberts  \n",
      "5192         Normal     Robert  Daniels Jr.  \n",
      "32511        Normal      Glenn      Estrada  \n",
      "50057      Abnormal     Brenda        Davis  \n"
     ]
    }
   ],
   "source": [
    "# Drop column 'Name'\n",
    "df.drop(columns=['Name'], inplace=True)\n",
    "\n",
    "print(df.head())"
   ]
  },
  {
   "cell_type": "code",
   "execution_count": 9,
   "id": "1047bffe-e04d-45b3-994e-8df057279425",
   "metadata": {},
   "outputs": [
    {
     "name": "stdout",
     "output_type": "stream",
     "text": [
      "Index(['Age', 'Gender', 'Blood Type', 'Medical Condition', 'Date of Admission',\n",
      "       'Doctor', 'Hospital', 'Insurance Provider', 'Billing Amount',\n",
      "       'Room Number', 'Admission Type', 'Discharge Date', 'Medication',\n",
      "       'Test Results', 'First_name', 'Last_name'],\n",
      "      dtype='object')\n"
     ]
    }
   ],
   "source": [
    "print(df.columns)\n"
   ]
  },
  {
   "cell_type": "code",
   "execution_count": 10,
   "id": "ca3fbb07-1369-4b3f-acef-4d148fe294d3",
   "metadata": {},
   "outputs": [
    {
     "name": "stdout",
     "output_type": "stream",
     "text": [
      "      First_name    Last_name  Age  Gender Blood Type Medical Condition  \\\n",
      "33003        Jon      Proctor   58  Female         A-          Diabetes   \n",
      "12172   Michelle      Roberts   28  Female         B-            Asthma   \n",
      "5192      Robert  Daniels Jr.   78    Male         A+         Arthritis   \n",
      "32511      Glenn      Estrada   33  Female         B-         Arthritis   \n",
      "50057     Brenda        Davis   42  Female         B-            Cancer   \n",
      "\n",
      "      Date of Admission           Doctor                  Hospital  \\\n",
      "33003        2023-02-18     James Nelson            Griffin-Foster   \n",
      "12172        2020-09-04        Lisa Hess  Walker Blake, And Hughes   \n",
      "5192         2022-11-22  Nicholas Graves             Robles-Fisher   \n",
      "32511        2021-05-25  Matthew Goodman            Nixon Sons And   \n",
      "50057        2021-03-16      Eric Hudson                Curtis Plc   \n",
      "\n",
      "      Insurance Provider  Billing Amount  Room Number Admission Type  \\\n",
      "33003              Cigna    19092.692951          491       Elective   \n",
      "12172           Medicare    11346.545701          216         Urgent   \n",
      "5192               Aetna    37084.986334          257      Emergency   \n",
      "32511           Medicare    45310.630922          388      Emergency   \n",
      "50057              Cigna    36569.665156          268      Emergency   \n",
      "\n",
      "      Discharge Date   Medication  Test Results  \n",
      "33003     2023-03-14      Aspirin  Inconclusive  \n",
      "12172     2020-09-27  Paracetamol  Inconclusive  \n",
      "5192      2022-12-15   Penicillin        Normal  \n",
      "32511     2021-06-17    Ibuprofen        Normal  \n",
      "50057     2021-04-09      Lipitor      Abnormal  \n"
     ]
    }
   ],
   "source": [
    "# Desired column order\n",
    "new_order = [\n",
    "    'First_name', 'Last_name', 'Age', 'Gender', 'Blood Type', \n",
    "    'Medical Condition', 'Date of Admission', 'Doctor', 'Hospital', \n",
    "    'Insurance Provider', 'Billing Amount', 'Room Number', \n",
    "    'Admission Type', 'Discharge Date', 'Medication', 'Test Results'\n",
    "]\n",
    "\n",
    "# Reorder columns\n",
    "df = df[new_order]\n",
    "\n",
    "print(df.head())"
   ]
  },
  {
   "cell_type": "code",
   "execution_count": 11,
   "id": "5695a5ad-a437-42c0-92fc-8bdcb6155d49",
   "metadata": {},
   "outputs": [
    {
     "name": "stdout",
     "output_type": "stream",
     "text": [
      "      First_name    Last_name  Age  Gender Blood Type Medical Condition  \\\n",
      "33003        Jon      Proctor   58  Female         A-          Diabetes   \n",
      "12172   Michelle      Roberts   28  Female         B-            Asthma   \n",
      "5192      Robert  Daniels Jr.   78    Male         A+         Arthritis   \n",
      "32511      Glenn      Estrada   33  Female         B-         Arthritis   \n",
      "50057     Brenda        Davis   42  Female         B-            Cancer   \n",
      "\n",
      "      Date of Admission           Doctor                  Hospital  \\\n",
      "33003        2023-02-18     James Nelson            Griffin-Foster   \n",
      "12172        2020-09-04        Lisa Hess  Walker Blake, And Hughes   \n",
      "5192         2022-11-22  Nicholas Graves             Robles-Fisher   \n",
      "32511        2021-05-25  Matthew Goodman            Nixon Sons And   \n",
      "50057        2021-03-16      Eric Hudson                Curtis Plc   \n",
      "\n",
      "      Insurance Provider  Billing Amount  Room Number Admission Type  \\\n",
      "33003              Cigna    19092.692951          491       Elective   \n",
      "12172           Medicare    11346.545701          216         Urgent   \n",
      "5192               Aetna    37084.986334          257      Emergency   \n",
      "32511           Medicare    45310.630922          388      Emergency   \n",
      "50057              Cigna    36569.665156          268      Emergency   \n",
      "\n",
      "      Discharge Date   Medication  Test Results  \n",
      "33003     2023-03-14      Aspirin  Inconclusive  \n",
      "12172     2020-09-27  Paracetamol  Inconclusive  \n",
      "5192      2022-12-15   Penicillin        Normal  \n",
      "32511     2021-06-17    Ibuprofen        Normal  \n",
      "50057     2021-04-09      Lipitor      Abnormal  \n"
     ]
    }
   ],
   "source": [
    "# Convert date columns to ISO 8601 format (YYYY-MM-DD)\n",
    "df['Date of Admission'] = pd.to_datetime(df['Date of Admission']).dt.strftime('%Y-%m-%d')\n",
    "df['Discharge Date'] = pd.to_datetime(df['Discharge Date']).dt.strftime('%Y-%m-%d')\n",
    "\n",
    "# Display the first few rows to check the result\n",
    "print(df.head())"
   ]
  },
  {
   "cell_type": "code",
   "execution_count": 12,
   "id": "cac39fff-1392-4409-b182-a8e4a36b2d2e",
   "metadata": {},
   "outputs": [],
   "source": [
    "# Save the updated DataFrame to a new CSV file\n",
    "df.to_csv('cleaned_healthcare_dataset.csv', index=False)"
   ]
  },
  {
   "cell_type": "code",
   "execution_count": 14,
   "id": "bddd3b70-b6c9-487f-993f-160c80e1fba2",
   "metadata": {},
   "outputs": [
    {
     "name": "stdout",
     "output_type": "stream",
     "text": [
      "CSV files created: Patient_Table.csv, Admission_Table.csv, Medication_Table.csv, Test_Results_Table.csv\n"
     ]
    }
   ],
   "source": [
    "# Generate PatientID as a unique identifier for each patient\n",
    "df['PatientID'] = range(1, len(df) + 1)\n",
    "\n",
    "# Patient Table\n",
    "# Create a DataFrame with relevant patient information and save to a CSV file\n",
    "patient_df = df[['PatientID', 'First_name', 'Last_name', 'Age', 'Gender', 'Blood Type', 'Medical Condition']]\n",
    "patient_df.to_csv('Patient_Table.csv', index=False)\n",
    "\n",
    "# Generate AdmissionID as a unique identifier for each admission\n",
    "df['AdmissionID'] = range(1, len(df) + 1)\n",
    "\n",
    "# Admission Table\n",
    "# Create a DataFrame with admission-related information, linking it to the PatientID, and save to a CSV file\n",
    "admission_df = df[['AdmissionID', 'PatientID', 'Date of Admission', 'Doctor', 'Hospital', \n",
    "                   'Insurance Provider', 'Billing Amount', 'Room Number', 'Admission Type', 'Discharge Date']]\n",
    "admission_df.to_csv('Admission_Table.csv', index=False)\n",
    "\n",
    "# Medication Table\n",
    "# Generate a unique MedicationID for each entry\n",
    "medication_df = df[['AdmissionID', 'Medication']].copy()  \n",
    "medication_df.loc[:, 'MedicationID'] = range(1, len(medication_df) + 1)  # Use .loc to set values\n",
    "\n",
    "# Save the Medication table to a CSV file\n",
    "medication_df[['MedicationID', 'AdmissionID', 'Medication']].to_csv('Medication_Table.csv', index=False)\n",
    "\n",
    "# Test Results Table\n",
    "# Generate a unique TestResultID for each entry\n",
    "test_results_df = df[['AdmissionID', 'Test Results']].copy()  \n",
    "test_results_df.loc[:, 'TestResultID'] = range(1, len(test_results_df) + 1)  \n",
    "\n",
    "# Save the Test Results table to a CSV file\n",
    "test_results_df[['TestResultID', 'AdmissionID', 'Test Results']].to_csv('Test_Results_Table.csv', index=False)\n",
    "\n",
    "\n",
    "print(\"CSV files created: Patient_Table.csv, Admission_Table.csv, Medication_Table.csv, Test_Results_Table.csv\")\n"
   ]
  },
  {
   "cell_type": "code",
   "execution_count": null,
   "id": "d76cb4f3-1f82-4a23-9c2d-7307c66d77a4",
   "metadata": {},
   "outputs": [],
   "source": []
  },
  {
   "cell_type": "code",
   "execution_count": null,
   "id": "0f0910b4-2a52-4357-99ca-763e4a2d03e0",
   "metadata": {},
   "outputs": [],
   "source": []
  }
 ],
 "metadata": {
  "kernelspec": {
   "display_name": "Python 3 (ipykernel)",
   "language": "python",
   "name": "python3"
  },
  "language_info": {
   "codemirror_mode": {
    "name": "ipython",
    "version": 3
   },
   "file_extension": ".py",
   "mimetype": "text/x-python",
   "name": "python",
   "nbconvert_exporter": "python",
   "pygments_lexer": "ipython3",
   "version": "3.11.7"
  }
 },
 "nbformat": 4,
 "nbformat_minor": 5
}
