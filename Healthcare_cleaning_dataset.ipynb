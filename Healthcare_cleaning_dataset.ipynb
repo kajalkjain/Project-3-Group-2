{
 "cells": [
  {
   "cell_type": "code",
   "execution_count": 151,
   "id": "a2dade96-7931-48df-9e2c-76498daa2bee",
   "metadata": {},
   "outputs": [],
   "source": [
    "import pandas as pd\n",
    "import csv"
   ]
  },
  {
   "cell_type": "code",
   "execution_count": 152,
   "id": "7b626a53-900a-4f63-91da-fae5ebc3987c",
   "metadata": {},
   "outputs": [
    {
     "name": "stdout",
     "output_type": "stream",
     "text": [
      "['Name', 'Age', 'Gender', 'Blood Type', 'Medical Condition', 'Date of Admission', 'Doctor', 'Hospital', 'Insurance Provider', 'Billing Amount', 'Room Number', 'Admission Type', 'Discharge Date', 'Medication', 'Test Results']\n"
     ]
    }
   ],
   "source": [
    "# Load the CSV file into a DataFrame\n",
    "df = pd.read_csv(\"C:/Users/61433/Desktop/Project-3-Group-2/healthcare_dataset.csv\")\n",
    "\n",
    "# Open the CSV file and list the headers using CSV library\n",
    "with open('C:/Users/61433/Desktop/Project-3-Group-2/healthcare_dataset.csv', mode='r') as file:\n",
    "    reader = csv.reader(file)\n",
    "    headers = next(reader)  # Get the first row as headers\n",
    "\n",
    "print(headers)"
   ]
  },
  {
   "cell_type": "code",
   "execution_count": 153,
   "id": "cd46ca1d-55ad-46a5-aed5-c8dc42429231",
   "metadata": {},
   "outputs": [],
   "source": [
    "# Get 1000 random rows\n",
    "random_rows = df.sample(n=1000, random_state=1) \n",
    "\n",
    "#save these random rows to a new CSV file\n",
    "random_rows.to_csv('random_rows.csv', index=False)"
   ]
  },
  {
   "cell_type": "code",
   "execution_count": 154,
   "id": "91f0971d-e481-4c66-8c26-d16908326446",
   "metadata": {},
   "outputs": [
    {
     "name": "stdout",
     "output_type": "stream",
     "text": [
      "                 Name  Age  Gender Blood Type Medical Condition  \\\n",
      "0       Bobby Jackson   30    Male         B-            Cancer   \n",
      "1        Leslie Terry   62    Male         A+           Obesity   \n",
      "2         Danny Smith   76  Female         A-           Obesity   \n",
      "3        Andrew Watts   28  Female         O+          Diabetes   \n",
      "4       Adrienne Bell   43  Female        AB+            Cancer   \n",
      "5       Emily Johnson   36    Male         A+            Asthma   \n",
      "6      Edward Edwards   21  Female        AB-          Diabetes   \n",
      "7  Christina Martinez   20  Female         A+            Cancer   \n",
      "8     Jasmine Aguilar   82    Male        AB+            Asthma   \n",
      "9    Christopher Berg   58  Female        AB-            Cancer   \n",
      "\n",
      "  Date of Admission            Doctor                     Hospital  \\\n",
      "0        2024-01-31     Matthew Smith              Sons And Miller   \n",
      "1        2019-08-20   Samantha Davies                      Kim Inc   \n",
      "2        2022-09-22  Tiffany Mitchell                     Cook Plc   \n",
      "3        2020-11-18       Kevin Wells   Hernandez Rogers And Vang,   \n",
      "4        2022-09-19    Kathleen Hanna                  White-White   \n",
      "5        2023-12-20     Taylor Newton               Nunez-Humphrey   \n",
      "6        2020-11-03       Kelly Olson              Group Middleton   \n",
      "7        2021-12-28    Suzanne Thomas  Powell Robinson And Valdez,   \n",
      "8        2020-07-01   Daniel Ferguson                Sons Rich And   \n",
      "9        2021-05-23       Heather Day               Padilla-Walker   \n",
      "\n",
      "  Insurance Provider  Billing Amount  Room Number Admission Type  \\\n",
      "0         Blue Cross    18856.281306          328         Urgent   \n",
      "1           Medicare    33643.327287          265      Emergency   \n",
      "2              Aetna    27955.096079          205      Emergency   \n",
      "3           Medicare    37909.782410          450       Elective   \n",
      "4              Aetna    14238.317814          458         Urgent   \n",
      "5   UnitedHealthcare    48145.110951          389         Urgent   \n",
      "6           Medicare    19580.872345          389      Emergency   \n",
      "7              Cigna    45820.462722          277      Emergency   \n",
      "8              Cigna    50119.222792          316       Elective   \n",
      "9   UnitedHealthcare    19784.631062          249       Elective   \n",
      "\n",
      "  Discharge Date   Medication  Test Results  \n",
      "0     2024-02-02  Paracetamol        Normal  \n",
      "1     2019-08-26    Ibuprofen  Inconclusive  \n",
      "2     2022-10-07      Aspirin        Normal  \n",
      "3     2020-12-18    Ibuprofen      Abnormal  \n",
      "4     2022-10-09   Penicillin      Abnormal  \n",
      "5     2023-12-24    Ibuprofen        Normal  \n",
      "6     2020-11-15  Paracetamol  Inconclusive  \n",
      "7     2022-01-07  Paracetamol  Inconclusive  \n",
      "8     2020-07-14      Aspirin      Abnormal  \n",
      "9     2021-06-22  Paracetamol  Inconclusive  \n"
     ]
    }
   ],
   "source": [
    "# Standardize capitalisation\n",
    "df['Name'] = df['Name'].str.title()\n",
    "df['Doctor'] = df['Doctor'].str.title()\n",
    "df['Hospital'] = df['Hospital'].str.title()\n",
    "df['Medical Condition'] = df['Medical Condition'].str.capitalize()\n",
    "df['Gender'] = df['Gender'].str.capitalize()\n",
    "df['Test Results'] = df['Test Results'].str.capitalize()\n",
    "df['Medication'] = df['Medication'].str.capitalize()\n",
    "\n",
    "# Data type conversion\n",
    "df['Age'] = df['Age'].astype(int)\n",
    "df['Billing Amount'] = df['Billing Amount'].astype(float)\n",
    "df['Room Number'] = df['Room Number'].astype(int)\n",
    "\n",
    "# dropping missing values\n",
    "df = df.dropna() \n",
    "\n",
    "#Standardize categorical data\n",
    "df['Blood Type'] = df['Blood Type'].str.upper()\n",
    "df['Admission Type'] = df['Admission Type'].str.capitalize()\n",
    "\n",
    "# Removing titles from names \n",
    "df['Name'] = df['Name'].str.replace(r'\\b(Dr\\.?|Mrs\\.?|Ms\\.?|Mr\\.?)\\s*', '', regex=True)\n",
    "\n",
    "# Remove duplicates\n",
    "df = df.drop_duplicates()\n",
    "\n",
    "first_10_records = df.head(10)\n",
    "print(first_10_records)\n"
   ]
  },
  {
   "cell_type": "code",
   "execution_count": 155,
   "id": "40bd1084-f1d2-4a1b-8618-4722aa90f489",
   "metadata": {},
   "outputs": [
    {
     "name": "stdout",
     "output_type": "stream",
     "text": [
      "Index(['Name', 'Age', 'Gender', 'Blood Type', 'Medical Condition',\n",
      "       'Date of Admission', 'Doctor', 'Hospital', 'Insurance Provider',\n",
      "       'Billing Amount', 'Room Number', 'Admission Type', 'Discharge Date',\n",
      "       'Medication', 'Test Results'],\n",
      "      dtype='object')\n"
     ]
    }
   ],
   "source": [
    "print(df.columns)"
   ]
  },
  {
   "cell_type": "code",
   "execution_count": 156,
   "id": "bba0365e-6635-499d-8e79-de956d5c0210",
   "metadata": {},
   "outputs": [
    {
     "name": "stdout",
     "output_type": "stream",
     "text": [
      "            Name  Age  Gender Blood Type Medical Condition Date of Admission  \\\n",
      "0  Bobby Jackson   30    Male         B-            Cancer        2024-01-31   \n",
      "1   Leslie Terry   62    Male         A+           Obesity        2019-08-20   \n",
      "2    Danny Smith   76  Female         A-           Obesity        2022-09-22   \n",
      "3   Andrew Watts   28  Female         O+          Diabetes        2020-11-18   \n",
      "4  Adrienne Bell   43  Female        AB+            Cancer        2022-09-19   \n",
      "\n",
      "             Doctor                    Hospital Insurance Provider  \\\n",
      "0     Matthew Smith             Sons And Miller         Blue Cross   \n",
      "1   Samantha Davies                     Kim Inc           Medicare   \n",
      "2  Tiffany Mitchell                    Cook Plc              Aetna   \n",
      "3       Kevin Wells  Hernandez Rogers And Vang,           Medicare   \n",
      "4    Kathleen Hanna                 White-White              Aetna   \n",
      "\n",
      "   Billing Amount  Room Number Admission Type Discharge Date   Medication  \\\n",
      "0    18856.281306          328         Urgent     2024-02-02  Paracetamol   \n",
      "1    33643.327287          265      Emergency     2019-08-26    Ibuprofen   \n",
      "2    27955.096079          205      Emergency     2022-10-07      Aspirin   \n",
      "3    37909.782410          450       Elective     2020-12-18    Ibuprofen   \n",
      "4    14238.317814          458         Urgent     2022-10-09   Penicillin   \n",
      "\n",
      "   Test Results First_name Last_name  \n",
      "0        Normal      Bobby   Jackson  \n",
      "1  Inconclusive     Leslie     Terry  \n",
      "2        Normal      Danny     Smith  \n",
      "3      Abnormal     Andrew     Watts  \n",
      "4      Abnormal   Adrienne      Bell  \n"
     ]
    }
   ],
   "source": [
    "# Ensure all values in 'Name' are strings\n",
    "df['Name'] = df['Name'].astype(str)\n",
    "\n",
    "# Function to split names\n",
    "def split_name(name):\n",
    "    parts = name.split(' ', 1)\n",
    "    first_name = parts[0]\n",
    "    last_name = parts[1] if len(parts) > 1 else None\n",
    "    return pd.Series([first_name, last_name])\n",
    "\n",
    "# Apply the function to the 'Name' column and create 'First_name' and 'Last_name' columns\n",
    "df[['First_name', 'Last_name']] = df['Name'].apply(split_name)\n",
    "\n",
    "# Display the first few rows to check the result\n",
    "print(df.head())"
   ]
  },
  {
   "cell_type": "code",
   "execution_count": 157,
   "id": "3dcb63b1-7f16-4cd9-8911-d0f7d1083c38",
   "metadata": {},
   "outputs": [
    {
     "name": "stdout",
     "output_type": "stream",
     "text": [
      "   Age  Gender Blood Type Medical Condition Date of Admission  \\\n",
      "0   30    Male         B-            Cancer        2024-01-31   \n",
      "1   62    Male         A+           Obesity        2019-08-20   \n",
      "2   76  Female         A-           Obesity        2022-09-22   \n",
      "3   28  Female         O+          Diabetes        2020-11-18   \n",
      "4   43  Female        AB+            Cancer        2022-09-19   \n",
      "\n",
      "             Doctor                    Hospital Insurance Provider  \\\n",
      "0     Matthew Smith             Sons And Miller         Blue Cross   \n",
      "1   Samantha Davies                     Kim Inc           Medicare   \n",
      "2  Tiffany Mitchell                    Cook Plc              Aetna   \n",
      "3       Kevin Wells  Hernandez Rogers And Vang,           Medicare   \n",
      "4    Kathleen Hanna                 White-White              Aetna   \n",
      "\n",
      "   Billing Amount  Room Number Admission Type Discharge Date   Medication  \\\n",
      "0    18856.281306          328         Urgent     2024-02-02  Paracetamol   \n",
      "1    33643.327287          265      Emergency     2019-08-26    Ibuprofen   \n",
      "2    27955.096079          205      Emergency     2022-10-07      Aspirin   \n",
      "3    37909.782410          450       Elective     2020-12-18    Ibuprofen   \n",
      "4    14238.317814          458         Urgent     2022-10-09   Penicillin   \n",
      "\n",
      "   Test Results First_name Last_name  \n",
      "0        Normal      Bobby   Jackson  \n",
      "1  Inconclusive     Leslie     Terry  \n",
      "2        Normal      Danny     Smith  \n",
      "3      Abnormal     Andrew     Watts  \n",
      "4      Abnormal   Adrienne      Bell  \n"
     ]
    }
   ],
   "source": [
    "# Drop column 'Name'\n",
    "df.drop(columns=['Name'], inplace=True)\n",
    "\n",
    "print(df.head())"
   ]
  },
  {
   "cell_type": "code",
   "execution_count": 158,
   "id": "1047bffe-e04d-45b3-994e-8df057279425",
   "metadata": {},
   "outputs": [
    {
     "name": "stdout",
     "output_type": "stream",
     "text": [
      "Index(['Age', 'Gender', 'Blood Type', 'Medical Condition', 'Date of Admission',\n",
      "       'Doctor', 'Hospital', 'Insurance Provider', 'Billing Amount',\n",
      "       'Room Number', 'Admission Type', 'Discharge Date', 'Medication',\n",
      "       'Test Results', 'First_name', 'Last_name'],\n",
      "      dtype='object')\n"
     ]
    }
   ],
   "source": [
    "print(df.columns)\n"
   ]
  },
  {
   "cell_type": "code",
   "execution_count": 159,
   "id": "ca3fbb07-1369-4b3f-acef-4d148fe294d3",
   "metadata": {},
   "outputs": [
    {
     "name": "stdout",
     "output_type": "stream",
     "text": [
      "  First_name Last_name  Age  Gender Blood Type Medical Condition  \\\n",
      "0      Bobby   Jackson   30    Male         B-            Cancer   \n",
      "1     Leslie     Terry   62    Male         A+           Obesity   \n",
      "2      Danny     Smith   76  Female         A-           Obesity   \n",
      "3     Andrew     Watts   28  Female         O+          Diabetes   \n",
      "4   Adrienne      Bell   43  Female        AB+            Cancer   \n",
      "\n",
      "  Date of Admission            Doctor                    Hospital  \\\n",
      "0        2024-01-31     Matthew Smith             Sons And Miller   \n",
      "1        2019-08-20   Samantha Davies                     Kim Inc   \n",
      "2        2022-09-22  Tiffany Mitchell                    Cook Plc   \n",
      "3        2020-11-18       Kevin Wells  Hernandez Rogers And Vang,   \n",
      "4        2022-09-19    Kathleen Hanna                 White-White   \n",
      "\n",
      "  Insurance Provider  Billing Amount  Room Number Admission Type  \\\n",
      "0         Blue Cross    18856.281306          328         Urgent   \n",
      "1           Medicare    33643.327287          265      Emergency   \n",
      "2              Aetna    27955.096079          205      Emergency   \n",
      "3           Medicare    37909.782410          450       Elective   \n",
      "4              Aetna    14238.317814          458         Urgent   \n",
      "\n",
      "  Discharge Date   Medication  Test Results  \n",
      "0     2024-02-02  Paracetamol        Normal  \n",
      "1     2019-08-26    Ibuprofen  Inconclusive  \n",
      "2     2022-10-07      Aspirin        Normal  \n",
      "3     2020-12-18    Ibuprofen      Abnormal  \n",
      "4     2022-10-09   Penicillin      Abnormal  \n"
     ]
    }
   ],
   "source": [
    "# Desired column order\n",
    "new_order = [\n",
    "    'First_name', 'Last_name', 'Age', 'Gender', 'Blood Type', \n",
    "    'Medical Condition', 'Date of Admission', 'Doctor', 'Hospital', \n",
    "    'Insurance Provider', 'Billing Amount', 'Room Number', \n",
    "    'Admission Type', 'Discharge Date', 'Medication', 'Test Results'\n",
    "]\n",
    "\n",
    "# Reorder columns\n",
    "df = df[new_order]\n",
    "\n",
    "print(df.head())"
   ]
  },
  {
   "cell_type": "code",
   "execution_count": 160,
   "id": "5695a5ad-a437-42c0-92fc-8bdcb6155d49",
   "metadata": {},
   "outputs": [
    {
     "name": "stdout",
     "output_type": "stream",
     "text": [
      "  First_name Last_name  Age  Gender Blood Type Medical Condition  \\\n",
      "0      Bobby   Jackson   30    Male         B-            Cancer   \n",
      "1     Leslie     Terry   62    Male         A+           Obesity   \n",
      "2      Danny     Smith   76  Female         A-           Obesity   \n",
      "3     Andrew     Watts   28  Female         O+          Diabetes   \n",
      "4   Adrienne      Bell   43  Female        AB+            Cancer   \n",
      "\n",
      "  Date of Admission            Doctor                    Hospital  \\\n",
      "0        2024-01-31     Matthew Smith             Sons And Miller   \n",
      "1        2019-08-20   Samantha Davies                     Kim Inc   \n",
      "2        2022-09-22  Tiffany Mitchell                    Cook Plc   \n",
      "3        2020-11-18       Kevin Wells  Hernandez Rogers And Vang,   \n",
      "4        2022-09-19    Kathleen Hanna                 White-White   \n",
      "\n",
      "  Insurance Provider  Billing Amount  Room Number Admission Type  \\\n",
      "0         Blue Cross    18856.281306          328         Urgent   \n",
      "1           Medicare    33643.327287          265      Emergency   \n",
      "2              Aetna    27955.096079          205      Emergency   \n",
      "3           Medicare    37909.782410          450       Elective   \n",
      "4              Aetna    14238.317814          458         Urgent   \n",
      "\n",
      "  Discharge Date   Medication  Test Results  \n",
      "0     2024-02-02  Paracetamol        Normal  \n",
      "1     2019-08-26    Ibuprofen  Inconclusive  \n",
      "2     2022-10-07      Aspirin        Normal  \n",
      "3     2020-12-18    Ibuprofen      Abnormal  \n",
      "4     2022-10-09   Penicillin      Abnormal  \n"
     ]
    }
   ],
   "source": [
    "# Convert date columns to ISO 8601 format (YYYY-MM-DD)\n",
    "df['Date of Admission'] = pd.to_datetime(df['Date of Admission']).dt.strftime('%Y-%m-%d')\n",
    "df['Discharge Date'] = pd.to_datetime(df['Discharge Date']).dt.strftime('%Y-%m-%d')\n",
    "\n",
    "# Display the first few rows to check the result\n",
    "print(df.head())"
   ]
  },
  {
   "cell_type": "code",
   "execution_count": 161,
   "id": "cac39fff-1392-4409-b182-a8e4a36b2d2e",
   "metadata": {},
   "outputs": [],
   "source": [
    "# Save the updated DataFrame to a new CSV file\n",
    "df.to_csv('cleaned_healthcare_dataset.csv', index=False)"
   ]
  },
  {
   "cell_type": "code",
   "execution_count": null,
   "id": "bddd3b70-b6c9-487f-993f-160c80e1fba2",
   "metadata": {},
   "outputs": [],
   "source": []
  }
 ],
 "metadata": {
  "kernelspec": {
   "display_name": "Python 3 (ipykernel)",
   "language": "python",
   "name": "python3"
  },
  "language_info": {
   "codemirror_mode": {
    "name": "ipython",
    "version": 3
   },
   "file_extension": ".py",
   "mimetype": "text/x-python",
   "name": "python",
   "nbconvert_exporter": "python",
   "pygments_lexer": "ipython3",
   "version": "3.11.7"
  }
 },
 "nbformat": 4,
 "nbformat_minor": 5
}
