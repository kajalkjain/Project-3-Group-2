{
 "cells": [
  {
   "cell_type": "code",
   "execution_count": 2,
   "id": "8bdcbb93-d980-47e4-a1c2-8707f28a000a",
   "metadata": {},
   "outputs": [
    {
     "name": "stdout",
     "output_type": "stream",
     "text": [
      "CSV has been converted to JSON successfully!\n"
     ]
    }
   ],
   "source": [
    "# Dependencies and Setup\n",
    "import pandas as pd\n",
    "\n",
    "# Load CSV file into a DataFrame\n",
    "df = pd.read_csv('Data/cleaned_healthcare_dataset.csv')\n",
    "\n",
    "# Convert DataFrame to JSON\n",
    "json_data = df.to_json(orient='records', lines=True)\n",
    "\n",
    "# Save JSON to a file\n",
    "with open('output_file.json', 'w') as json_file:\n",
    "    json_file.write(json_data)\n",
    "\n",
    "print(\"CSV has been converted to JSON successfully!\")"
   ]
  },
  {
   "cell_type": "code",
   "execution_count": null,
   "id": "babd7f8d-acd4-4da5-8f55-bc8cfd8c24d7",
   "metadata": {},
   "outputs": [],
   "source": []
  }
 ],
 "metadata": {
  "kernelspec": {
   "display_name": "Python 3 (ipykernel)",
   "language": "python",
   "name": "python3"
  },
  "language_info": {
   "codemirror_mode": {
    "name": "ipython",
    "version": 3
   },
   "file_extension": ".py",
   "mimetype": "text/x-python",
   "name": "python",
   "nbconvert_exporter": "python",
   "pygments_lexer": "ipython3",
   "version": "3.11.7"
  }
 },
 "nbformat": 4,
 "nbformat_minor": 5
}
