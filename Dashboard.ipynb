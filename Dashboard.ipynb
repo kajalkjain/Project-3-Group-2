{
 "cells": [
  {
   "cell_type": "code",
   "execution_count": 4,
   "id": "0dbcb27a-05c0-4a1a-b80d-70db6a1b4f9e",
   "metadata": {},
   "outputs": [
    {
     "data": {
      "text/html": [
       "<div>\n",
       "<style scoped>\n",
       "    .dataframe tbody tr th:only-of-type {\n",
       "        vertical-align: middle;\n",
       "    }\n",
       "\n",
       "    .dataframe tbody tr th {\n",
       "        vertical-align: top;\n",
       "    }\n",
       "\n",
       "    .dataframe thead th {\n",
       "        text-align: right;\n",
       "    }\n",
       "</style>\n",
       "<table border=\"1\" class=\"dataframe\">\n",
       "  <thead>\n",
       "    <tr style=\"text-align: right;\">\n",
       "      <th></th>\n",
       "      <th>First_name</th>\n",
       "      <th>Last_name</th>\n",
       "      <th>Age</th>\n",
       "      <th>Gender</th>\n",
       "      <th>Blood Type</th>\n",
       "      <th>Medical Condition</th>\n",
       "      <th>Date of Admission</th>\n",
       "      <th>Doctor</th>\n",
       "      <th>Hospital</th>\n",
       "      <th>Insurance Provider</th>\n",
       "      <th>Billing Amount</th>\n",
       "      <th>Room Number</th>\n",
       "      <th>Admission Type</th>\n",
       "      <th>Discharge Date</th>\n",
       "      <th>Medication</th>\n",
       "      <th>Test Results</th>\n",
       "    </tr>\n",
       "  </thead>\n",
       "  <tbody>\n",
       "    <tr>\n",
       "      <th>0</th>\n",
       "      <td>Jon</td>\n",
       "      <td>Proctor</td>\n",
       "      <td>58</td>\n",
       "      <td>Female</td>\n",
       "      <td>A-</td>\n",
       "      <td>Diabetes</td>\n",
       "      <td>2023-02-18</td>\n",
       "      <td>James Nelson</td>\n",
       "      <td>Griffin-Foster</td>\n",
       "      <td>Cigna</td>\n",
       "      <td>19092.692951</td>\n",
       "      <td>491</td>\n",
       "      <td>Elective</td>\n",
       "      <td>2023-03-14</td>\n",
       "      <td>Aspirin</td>\n",
       "      <td>Inconclusive</td>\n",
       "    </tr>\n",
       "    <tr>\n",
       "      <th>1</th>\n",
       "      <td>Michelle</td>\n",
       "      <td>Roberts</td>\n",
       "      <td>28</td>\n",
       "      <td>Female</td>\n",
       "      <td>B-</td>\n",
       "      <td>Asthma</td>\n",
       "      <td>2020-09-04</td>\n",
       "      <td>Lisa Hess</td>\n",
       "      <td>Walker Blake, And Hughes</td>\n",
       "      <td>Medicare</td>\n",
       "      <td>11346.545701</td>\n",
       "      <td>216</td>\n",
       "      <td>Urgent</td>\n",
       "      <td>2020-09-27</td>\n",
       "      <td>Paracetamol</td>\n",
       "      <td>Inconclusive</td>\n",
       "    </tr>\n",
       "    <tr>\n",
       "      <th>2</th>\n",
       "      <td>Robert</td>\n",
       "      <td>Daniels Jr.</td>\n",
       "      <td>78</td>\n",
       "      <td>Male</td>\n",
       "      <td>A+</td>\n",
       "      <td>Arthritis</td>\n",
       "      <td>2022-11-22</td>\n",
       "      <td>Nicholas Graves</td>\n",
       "      <td>Robles-Fisher</td>\n",
       "      <td>Aetna</td>\n",
       "      <td>37084.986334</td>\n",
       "      <td>257</td>\n",
       "      <td>Emergency</td>\n",
       "      <td>2022-12-15</td>\n",
       "      <td>Penicillin</td>\n",
       "      <td>Normal</td>\n",
       "    </tr>\n",
       "    <tr>\n",
       "      <th>3</th>\n",
       "      <td>Glenn</td>\n",
       "      <td>Estrada</td>\n",
       "      <td>33</td>\n",
       "      <td>Female</td>\n",
       "      <td>B-</td>\n",
       "      <td>Arthritis</td>\n",
       "      <td>2021-05-25</td>\n",
       "      <td>Matthew Goodman</td>\n",
       "      <td>Nixon Sons And</td>\n",
       "      <td>Medicare</td>\n",
       "      <td>45310.630922</td>\n",
       "      <td>388</td>\n",
       "      <td>Emergency</td>\n",
       "      <td>2021-06-17</td>\n",
       "      <td>Ibuprofen</td>\n",
       "      <td>Normal</td>\n",
       "    </tr>\n",
       "    <tr>\n",
       "      <th>4</th>\n",
       "      <td>Brenda</td>\n",
       "      <td>Davis</td>\n",
       "      <td>42</td>\n",
       "      <td>Female</td>\n",
       "      <td>B-</td>\n",
       "      <td>Cancer</td>\n",
       "      <td>2021-03-16</td>\n",
       "      <td>Eric Hudson</td>\n",
       "      <td>Curtis Plc</td>\n",
       "      <td>Cigna</td>\n",
       "      <td>36569.665156</td>\n",
       "      <td>268</td>\n",
       "      <td>Emergency</td>\n",
       "      <td>2021-04-09</td>\n",
       "      <td>Lipitor</td>\n",
       "      <td>Abnormal</td>\n",
       "    </tr>\n",
       "    <tr>\n",
       "      <th>...</th>\n",
       "      <td>...</td>\n",
       "      <td>...</td>\n",
       "      <td>...</td>\n",
       "      <td>...</td>\n",
       "      <td>...</td>\n",
       "      <td>...</td>\n",
       "      <td>...</td>\n",
       "      <td>...</td>\n",
       "      <td>...</td>\n",
       "      <td>...</td>\n",
       "      <td>...</td>\n",
       "      <td>...</td>\n",
       "      <td>...</td>\n",
       "      <td>...</td>\n",
       "      <td>...</td>\n",
       "      <td>...</td>\n",
       "    </tr>\n",
       "    <tr>\n",
       "      <th>981</th>\n",
       "      <td>Angela</td>\n",
       "      <td>Wagner</td>\n",
       "      <td>32</td>\n",
       "      <td>Female</td>\n",
       "      <td>A-</td>\n",
       "      <td>Asthma</td>\n",
       "      <td>2020-01-17</td>\n",
       "      <td>John White</td>\n",
       "      <td>And Lutz, Smith White</td>\n",
       "      <td>Aetna</td>\n",
       "      <td>18468.904310</td>\n",
       "      <td>163</td>\n",
       "      <td>Elective</td>\n",
       "      <td>2020-01-23</td>\n",
       "      <td>Ibuprofen</td>\n",
       "      <td>Normal</td>\n",
       "    </tr>\n",
       "    <tr>\n",
       "      <th>982</th>\n",
       "      <td>Misty</td>\n",
       "      <td>Bailey</td>\n",
       "      <td>64</td>\n",
       "      <td>Female</td>\n",
       "      <td>B+</td>\n",
       "      <td>Asthma</td>\n",
       "      <td>2019-06-14</td>\n",
       "      <td>Paul Thomas</td>\n",
       "      <td>And Sons Mills</td>\n",
       "      <td>Blue Cross</td>\n",
       "      <td>26046.560731</td>\n",
       "      <td>284</td>\n",
       "      <td>Urgent</td>\n",
       "      <td>2019-07-06</td>\n",
       "      <td>Ibuprofen</td>\n",
       "      <td>Abnormal</td>\n",
       "    </tr>\n",
       "    <tr>\n",
       "      <th>983</th>\n",
       "      <td>Joseph</td>\n",
       "      <td>Stevens</td>\n",
       "      <td>75</td>\n",
       "      <td>Female</td>\n",
       "      <td>O+</td>\n",
       "      <td>Obesity</td>\n",
       "      <td>2023-01-30</td>\n",
       "      <td>John Watson</td>\n",
       "      <td>Schneider And Sons</td>\n",
       "      <td>Cigna</td>\n",
       "      <td>-967.594706</td>\n",
       "      <td>476</td>\n",
       "      <td>Elective</td>\n",
       "      <td>2023-02-13</td>\n",
       "      <td>Ibuprofen</td>\n",
       "      <td>Normal</td>\n",
       "    </tr>\n",
       "    <tr>\n",
       "      <th>984</th>\n",
       "      <td>Jessica</td>\n",
       "      <td>Baird</td>\n",
       "      <td>56</td>\n",
       "      <td>Male</td>\n",
       "      <td>AB-</td>\n",
       "      <td>Asthma</td>\n",
       "      <td>2021-08-17</td>\n",
       "      <td>Alexander Higgins</td>\n",
       "      <td>Hurley Inc</td>\n",
       "      <td>Aetna</td>\n",
       "      <td>8656.079769</td>\n",
       "      <td>279</td>\n",
       "      <td>Elective</td>\n",
       "      <td>2021-08-23</td>\n",
       "      <td>Ibuprofen</td>\n",
       "      <td>Inconclusive</td>\n",
       "    </tr>\n",
       "    <tr>\n",
       "      <th>985</th>\n",
       "      <td>Vanessa</td>\n",
       "      <td>Campbell</td>\n",
       "      <td>49</td>\n",
       "      <td>Male</td>\n",
       "      <td>A-</td>\n",
       "      <td>Cancer</td>\n",
       "      <td>2021-09-11</td>\n",
       "      <td>Sharon Anderson</td>\n",
       "      <td>Dougherty-Walker</td>\n",
       "      <td>UnitedHealthcare</td>\n",
       "      <td>37130.213900</td>\n",
       "      <td>187</td>\n",
       "      <td>Urgent</td>\n",
       "      <td>2021-10-09</td>\n",
       "      <td>Lipitor</td>\n",
       "      <td>Inconclusive</td>\n",
       "    </tr>\n",
       "  </tbody>\n",
       "</table>\n",
       "<p>986 rows × 16 columns</p>\n",
       "</div>"
      ],
      "text/plain": [
       "    First_name    Last_name  Age  Gender Blood Type Medical Condition  \\\n",
       "0          Jon      Proctor   58  Female         A-          Diabetes   \n",
       "1     Michelle      Roberts   28  Female         B-            Asthma   \n",
       "2       Robert  Daniels Jr.   78    Male         A+         Arthritis   \n",
       "3        Glenn      Estrada   33  Female         B-         Arthritis   \n",
       "4       Brenda        Davis   42  Female         B-            Cancer   \n",
       "..         ...          ...  ...     ...        ...               ...   \n",
       "981     Angela       Wagner   32  Female         A-            Asthma   \n",
       "982      Misty       Bailey   64  Female         B+            Asthma   \n",
       "983     Joseph      Stevens   75  Female         O+           Obesity   \n",
       "984    Jessica        Baird   56    Male        AB-            Asthma   \n",
       "985    Vanessa     Campbell   49    Male         A-            Cancer   \n",
       "\n",
       "    Date of Admission             Doctor                  Hospital  \\\n",
       "0          2023-02-18       James Nelson            Griffin-Foster   \n",
       "1          2020-09-04          Lisa Hess  Walker Blake, And Hughes   \n",
       "2          2022-11-22    Nicholas Graves             Robles-Fisher   \n",
       "3          2021-05-25    Matthew Goodman            Nixon Sons And   \n",
       "4          2021-03-16        Eric Hudson                Curtis Plc   \n",
       "..                ...                ...                       ...   \n",
       "981        2020-01-17         John White     And Lutz, Smith White   \n",
       "982        2019-06-14        Paul Thomas            And Sons Mills   \n",
       "983        2023-01-30        John Watson        Schneider And Sons   \n",
       "984        2021-08-17  Alexander Higgins                Hurley Inc   \n",
       "985        2021-09-11    Sharon Anderson          Dougherty-Walker   \n",
       "\n",
       "    Insurance Provider  Billing Amount  Room Number Admission Type  \\\n",
       "0                Cigna    19092.692951          491       Elective   \n",
       "1             Medicare    11346.545701          216         Urgent   \n",
       "2                Aetna    37084.986334          257      Emergency   \n",
       "3             Medicare    45310.630922          388      Emergency   \n",
       "4                Cigna    36569.665156          268      Emergency   \n",
       "..                 ...             ...          ...            ...   \n",
       "981              Aetna    18468.904310          163       Elective   \n",
       "982         Blue Cross    26046.560731          284         Urgent   \n",
       "983              Cigna     -967.594706          476       Elective   \n",
       "984              Aetna     8656.079769          279       Elective   \n",
       "985   UnitedHealthcare    37130.213900          187         Urgent   \n",
       "\n",
       "    Discharge Date   Medication  Test Results  \n",
       "0       2023-03-14      Aspirin  Inconclusive  \n",
       "1       2020-09-27  Paracetamol  Inconclusive  \n",
       "2       2022-12-15   Penicillin        Normal  \n",
       "3       2021-06-17    Ibuprofen        Normal  \n",
       "4       2021-04-09      Lipitor      Abnormal  \n",
       "..             ...          ...           ...  \n",
       "981     2020-01-23    Ibuprofen        Normal  \n",
       "982     2019-07-06    Ibuprofen      Abnormal  \n",
       "983     2023-02-13    Ibuprofen        Normal  \n",
       "984     2021-08-23    Ibuprofen  Inconclusive  \n",
       "985     2021-10-09      Lipitor  Inconclusive  \n",
       "\n",
       "[986 rows x 16 columns]"
      ]
     },
     "execution_count": 4,
     "metadata": {},
     "output_type": "execute_result"
    }
   ],
   "source": [
    "import pandas as pd\n",
    "import numpy as np\n",
    "from bokeh.io import output_notebook, show\n",
    "from bokeh.plotting import figure\n",
    "from bokeh.layouts import column, row, layout\n",
    "from bokeh.models import ColumnDataSource, HoverTool, Select, DateRangeSlider\n",
    "from bokeh.palettes import Spectral10, Category10\n",
    "from bokeh.transform import factor_cmap, cumsum\n",
    "from scipy import stats\n",
    "import math\n",
    "from bokeh.palettes import Category10, Category20\n",
    "import itertools\n",
    "import seaborn as sns   # Data visualization (plots)\n",
    "import plotly.express as px\n",
    "\n",
    "file_clean_data = pd.read_csv(\"Data/cleaned_healthcare_dataset.csv\")\n",
    "df = pd.DataFrame(file_clean_data)\n",
    "df"
   ]
  },
  {
   "cell_type": "code",
   "execution_count": 7,
   "id": "e12dfe31-3900-4561-9358-73379bf349ce",
   "metadata": {},
   "outputs": [
    {
     "data": {
      "text/plain": [
       "Index(['First_name', 'Last_name', 'Age', 'Gender', 'Blood Type',\n",
       "       'Medical Condition', 'Date of Admission', 'Doctor', 'Hospital',\n",
       "       'Insurance Provider', 'Billing Amount', 'Room Number', 'Admission Type',\n",
       "       'Discharge Date', 'Medication', 'Test Results'],\n",
       "      dtype='object')"
      ]
     },
     "execution_count": 7,
     "metadata": {},
     "output_type": "execute_result"
    }
   ],
   "source": [
    "df.columns"
   ]
  },
  {
   "cell_type": "code",
   "execution_count": 6,
   "id": "2bfb50b9-5f9f-490e-956c-7702bee7d538",
   "metadata": {},
   "outputs": [
    {
     "name": "stderr",
     "output_type": "stream",
     "text": [
      "WARNING:bokeh.embed.util:\n",
      "You are generating standalone HTML/JS output, but trying to use real Python\n",
      "callbacks (i.e. with on_change or on_event). This combination cannot work.\n",
      "\n",
      "Only JavaScript callbacks may be used with standalone output. For more\n",
      "information on JavaScript callbacks with Bokeh, see:\n",
      "\n",
      "    https://docs.bokeh.org/en/latest/docs/user_guide/interaction/callbacks.html\n",
      "\n",
      "Alternatively, to use real Python callbacks, a Bokeh server application may\n",
      "be used. For more information on building and running Bokeh applications, see:\n",
      "\n",
      "    https://docs.bokeh.org/en/latest/docs/user_guide/server.html\n",
      "\n"
     ]
    },
    {
     "name": "stdout",
     "output_type": "stream",
     "text": [
      "              Age              Date of Admission  Billing Amount  Room Number  \\\n",
      "count  986.000000                            986      986.000000   986.000000   \n",
      "mean    52.893509  2021-10-21 20:06:19.716024320    25834.203235   304.133874   \n",
      "min     13.000000            2019-05-09 00:00:00     -967.594706   101.000000   \n",
      "25%     36.000000            2020-07-20 00:00:00    13848.742661   210.000000   \n",
      "50%     54.000000            2021-10-02 00:00:00    25842.810535   307.500000   \n",
      "75%     70.000000            2023-01-04 00:00:00    37660.059876   406.000000   \n",
      "max     88.000000            2024-05-07 00:00:00    50576.942752   500.000000   \n",
      "std     19.410705                            NaN    14193.771708   115.905118   \n",
      "\n",
      "                      Discharge Date  \n",
      "count                            986  \n",
      "mean   2021-11-06 21:14:58.174442240  \n",
      "min              2019-05-13 00:00:00  \n",
      "25%              2020-08-10 06:00:00  \n",
      "50%              2021-10-14 12:00:00  \n",
      "75%              2023-01-21 12:00:00  \n",
      "max              2024-05-25 00:00:00  \n",
      "std                              NaN  \n",
      "Correlation between Age and Billing Amount: 0.04\n",
      "T-test for Billing Amount difference between genders: t-statistic = 0.79, p-value = 0.4301\n",
      "ANOVA for Billing Amount differences among Medical Conditions: F-statistic = 1.74, p-value = 0.1227\n"
     ]
    },
    {
     "data": {
      "application/vnd.plotly.v1+json": {
       "config": {
        "plotlyServerURL": "https://plot.ly"
       },
       "data": [
        {
         "alignmentgroup": "True",
         "hovertemplate": "Test Results=Abnormal<br>Age Group=%{x}<br>Number of Test Results=%{text}<extra></extra>",
         "legendgroup": "Abnormal",
         "marker": {
          "color": "#636efa",
          "pattern": {
           "shape": ""
          }
         },
         "name": "Abnormal",
         "offsetgroup": "Abnormal",
         "orientation": "v",
         "showlegend": true,
         "text": [
          1,
          9,
          6,
          2,
          2,
          2,
          2,
          2,
          5,
          3,
          5,
          5,
          5,
          4,
          4,
          6,
          5,
          6,
          5,
          6,
          2,
          7,
          4,
          4,
          7,
          4,
          3,
          5,
          7,
          6,
          3,
          4,
          6,
          2,
          7,
          3,
          1,
          7,
          5,
          5,
          3,
          4,
          6,
          4,
          9,
          7,
          4,
          9,
          8,
          8,
          5,
          5,
          4,
          3,
          5,
          7,
          6,
          8,
          3,
          9,
          6,
          9,
          5,
          7,
          5,
          6,
          3,
          5,
          3,
          0
         ],
         "textposition": "auto",
         "type": "bar",
         "x": [
          13,
          18,
          19,
          20,
          21,
          22,
          23,
          24,
          25,
          26,
          27,
          28,
          29,
          30,
          31,
          32,
          33,
          34,
          35,
          36,
          37,
          38,
          39,
          40,
          41,
          42,
          43,
          44,
          45,
          46,
          47,
          48,
          49,
          50,
          51,
          52,
          53,
          54,
          55,
          56,
          57,
          58,
          59,
          60,
          61,
          62,
          63,
          64,
          65,
          66,
          67,
          68,
          69,
          70,
          71,
          72,
          73,
          74,
          75,
          76,
          77,
          78,
          79,
          80,
          81,
          82,
          83,
          84,
          85,
          88
         ],
         "xaxis": "x",
         "y": [
          1,
          9,
          6,
          2,
          2,
          2,
          2,
          2,
          5,
          3,
          5,
          5,
          5,
          4,
          4,
          6,
          5,
          6,
          5,
          6,
          2,
          7,
          4,
          4,
          7,
          4,
          3,
          5,
          7,
          6,
          3,
          4,
          6,
          2,
          7,
          3,
          1,
          7,
          5,
          5,
          3,
          4,
          6,
          4,
          9,
          7,
          4,
          9,
          8,
          8,
          5,
          5,
          4,
          3,
          5,
          7,
          6,
          8,
          3,
          9,
          6,
          9,
          5,
          7,
          5,
          6,
          3,
          5,
          3,
          0
         ],
         "yaxis": "y"
        },
        {
         "alignmentgroup": "True",
         "hovertemplate": "Test Results=Inconclusive<br>Age Group=%{x}<br>Number of Test Results=%{text}<extra></extra>",
         "legendgroup": "Inconclusive",
         "marker": {
          "color": "#EF553B",
          "pattern": {
           "shape": ""
          }
         },
         "name": "Inconclusive",
         "offsetgroup": "Inconclusive",
         "orientation": "v",
         "showlegend": true,
         "text": [
          0,
          1,
          0,
          3,
          3,
          5,
          5,
          4,
          3,
          5,
          4,
          6,
          6,
          5,
          2,
          7,
          8,
          3,
          4,
          4,
          6,
          4,
          5,
          5,
          4,
          6,
          5,
          6,
          4,
          5,
          1,
          5,
          4,
          1,
          4,
          3,
          6,
          4,
          5,
          7,
          6,
          3,
          4,
          2,
          4,
          9,
          4,
          5,
          7,
          3,
          6,
          3,
          9,
          6,
          5,
          6,
          6,
          9,
          4,
          3,
          2,
          7,
          9,
          3,
          7,
          4,
          6,
          2,
          2,
          1
         ],
         "textposition": "auto",
         "type": "bar",
         "x": [
          13,
          18,
          19,
          20,
          21,
          22,
          23,
          24,
          25,
          26,
          27,
          28,
          29,
          30,
          31,
          32,
          33,
          34,
          35,
          36,
          37,
          38,
          39,
          40,
          41,
          42,
          43,
          44,
          45,
          46,
          47,
          48,
          49,
          50,
          51,
          52,
          53,
          54,
          55,
          56,
          57,
          58,
          59,
          60,
          61,
          62,
          63,
          64,
          65,
          66,
          67,
          68,
          69,
          70,
          71,
          72,
          73,
          74,
          75,
          76,
          77,
          78,
          79,
          80,
          81,
          82,
          83,
          84,
          85,
          88
         ],
         "xaxis": "x",
         "y": [
          0,
          1,
          0,
          3,
          3,
          5,
          5,
          4,
          3,
          5,
          4,
          6,
          6,
          5,
          2,
          7,
          8,
          3,
          4,
          4,
          6,
          4,
          5,
          5,
          4,
          6,
          5,
          6,
          4,
          5,
          1,
          5,
          4,
          1,
          4,
          3,
          6,
          4,
          5,
          7,
          6,
          3,
          4,
          2,
          4,
          9,
          4,
          5,
          7,
          3,
          6,
          3,
          9,
          6,
          5,
          6,
          6,
          9,
          4,
          3,
          2,
          7,
          9,
          3,
          7,
          4,
          6,
          2,
          2,
          1
         ],
         "yaxis": "y"
        },
        {
         "alignmentgroup": "True",
         "hovertemplate": "Test Results=Normal<br>Age Group=%{x}<br>Number of Test Results=%{text}<extra></extra>",
         "legendgroup": "Normal",
         "marker": {
          "color": "#00cc96",
          "pattern": {
           "shape": ""
          }
         },
         "name": "Normal",
         "offsetgroup": "Normal",
         "orientation": "v",
         "showlegend": true,
         "text": [
          0,
          4,
          2,
          4,
          8,
          2,
          4,
          8,
          4,
          5,
          7,
          4,
          4,
          9,
          6,
          4,
          7,
          6,
          2,
          7,
          7,
          2,
          5,
          2,
          4,
          4,
          5,
          5,
          4,
          1,
          5,
          6,
          5,
          4,
          5,
          3,
          6,
          3,
          6,
          5,
          4,
          3,
          6,
          4,
          8,
          4,
          3,
          5,
          6,
          5,
          7,
          4,
          6,
          5,
          1,
          4,
          4,
          9,
          6,
          7,
          5,
          6,
          4,
          2,
          7,
          6,
          6,
          5,
          2,
          0
         ],
         "textposition": "auto",
         "type": "bar",
         "x": [
          13,
          18,
          19,
          20,
          21,
          22,
          23,
          24,
          25,
          26,
          27,
          28,
          29,
          30,
          31,
          32,
          33,
          34,
          35,
          36,
          37,
          38,
          39,
          40,
          41,
          42,
          43,
          44,
          45,
          46,
          47,
          48,
          49,
          50,
          51,
          52,
          53,
          54,
          55,
          56,
          57,
          58,
          59,
          60,
          61,
          62,
          63,
          64,
          65,
          66,
          67,
          68,
          69,
          70,
          71,
          72,
          73,
          74,
          75,
          76,
          77,
          78,
          79,
          80,
          81,
          82,
          83,
          84,
          85,
          88
         ],
         "xaxis": "x",
         "y": [
          0,
          4,
          2,
          4,
          8,
          2,
          4,
          8,
          4,
          5,
          7,
          4,
          4,
          9,
          6,
          4,
          7,
          6,
          2,
          7,
          7,
          2,
          5,
          2,
          4,
          4,
          5,
          5,
          4,
          1,
          5,
          6,
          5,
          4,
          5,
          3,
          6,
          3,
          6,
          5,
          4,
          3,
          6,
          4,
          8,
          4,
          3,
          5,
          6,
          5,
          7,
          4,
          6,
          5,
          1,
          4,
          4,
          9,
          6,
          7,
          5,
          6,
          4,
          2,
          7,
          6,
          6,
          5,
          2,
          0
         ],
         "yaxis": "y"
        }
       ],
       "layout": {
        "autosize": true,
        "barmode": "relative",
        "legend": {
         "title": {
          "text": "Test Results"
         },
         "tracegroupgap": 0
        },
        "template": {
         "data": {
          "bar": [
           {
            "error_x": {
             "color": "#2a3f5f"
            },
            "error_y": {
             "color": "#2a3f5f"
            },
            "marker": {
             "line": {
              "color": "#E5ECF6",
              "width": 0.5
             },
             "pattern": {
              "fillmode": "overlay",
              "size": 10,
              "solidity": 0.2
             }
            },
            "type": "bar"
           }
          ],
          "barpolar": [
           {
            "marker": {
             "line": {
              "color": "#E5ECF6",
              "width": 0.5
             },
             "pattern": {
              "fillmode": "overlay",
              "size": 10,
              "solidity": 0.2
             }
            },
            "type": "barpolar"
           }
          ],
          "carpet": [
           {
            "aaxis": {
             "endlinecolor": "#2a3f5f",
             "gridcolor": "white",
             "linecolor": "white",
             "minorgridcolor": "white",
             "startlinecolor": "#2a3f5f"
            },
            "baxis": {
             "endlinecolor": "#2a3f5f",
             "gridcolor": "white",
             "linecolor": "white",
             "minorgridcolor": "white",
             "startlinecolor": "#2a3f5f"
            },
            "type": "carpet"
           }
          ],
          "choropleth": [
           {
            "colorbar": {
             "outlinewidth": 0,
             "ticks": ""
            },
            "type": "choropleth"
           }
          ],
          "contour": [
           {
            "colorbar": {
             "outlinewidth": 0,
             "ticks": ""
            },
            "colorscale": [
             [
              0,
              "#0d0887"
             ],
             [
              0.1111111111111111,
              "#46039f"
             ],
             [
              0.2222222222222222,
              "#7201a8"
             ],
             [
              0.3333333333333333,
              "#9c179e"
             ],
             [
              0.4444444444444444,
              "#bd3786"
             ],
             [
              0.5555555555555556,
              "#d8576b"
             ],
             [
              0.6666666666666666,
              "#ed7953"
             ],
             [
              0.7777777777777778,
              "#fb9f3a"
             ],
             [
              0.8888888888888888,
              "#fdca26"
             ],
             [
              1,
              "#f0f921"
             ]
            ],
            "type": "contour"
           }
          ],
          "contourcarpet": [
           {
            "colorbar": {
             "outlinewidth": 0,
             "ticks": ""
            },
            "type": "contourcarpet"
           }
          ],
          "heatmap": [
           {
            "colorbar": {
             "outlinewidth": 0,
             "ticks": ""
            },
            "colorscale": [
             [
              0,
              "#0d0887"
             ],
             [
              0.1111111111111111,
              "#46039f"
             ],
             [
              0.2222222222222222,
              "#7201a8"
             ],
             [
              0.3333333333333333,
              "#9c179e"
             ],
             [
              0.4444444444444444,
              "#bd3786"
             ],
             [
              0.5555555555555556,
              "#d8576b"
             ],
             [
              0.6666666666666666,
              "#ed7953"
             ],
             [
              0.7777777777777778,
              "#fb9f3a"
             ],
             [
              0.8888888888888888,
              "#fdca26"
             ],
             [
              1,
              "#f0f921"
             ]
            ],
            "type": "heatmap"
           }
          ],
          "heatmapgl": [
           {
            "colorbar": {
             "outlinewidth": 0,
             "ticks": ""
            },
            "colorscale": [
             [
              0,
              "#0d0887"
             ],
             [
              0.1111111111111111,
              "#46039f"
             ],
             [
              0.2222222222222222,
              "#7201a8"
             ],
             [
              0.3333333333333333,
              "#9c179e"
             ],
             [
              0.4444444444444444,
              "#bd3786"
             ],
             [
              0.5555555555555556,
              "#d8576b"
             ],
             [
              0.6666666666666666,
              "#ed7953"
             ],
             [
              0.7777777777777778,
              "#fb9f3a"
             ],
             [
              0.8888888888888888,
              "#fdca26"
             ],
             [
              1,
              "#f0f921"
             ]
            ],
            "type": "heatmapgl"
           }
          ],
          "histogram": [
           {
            "marker": {
             "pattern": {
              "fillmode": "overlay",
              "size": 10,
              "solidity": 0.2
             }
            },
            "type": "histogram"
           }
          ],
          "histogram2d": [
           {
            "colorbar": {
             "outlinewidth": 0,
             "ticks": ""
            },
            "colorscale": [
             [
              0,
              "#0d0887"
             ],
             [
              0.1111111111111111,
              "#46039f"
             ],
             [
              0.2222222222222222,
              "#7201a8"
             ],
             [
              0.3333333333333333,
              "#9c179e"
             ],
             [
              0.4444444444444444,
              "#bd3786"
             ],
             [
              0.5555555555555556,
              "#d8576b"
             ],
             [
              0.6666666666666666,
              "#ed7953"
             ],
             [
              0.7777777777777778,
              "#fb9f3a"
             ],
             [
              0.8888888888888888,
              "#fdca26"
             ],
             [
              1,
              "#f0f921"
             ]
            ],
            "type": "histogram2d"
           }
          ],
          "histogram2dcontour": [
           {
            "colorbar": {
             "outlinewidth": 0,
             "ticks": ""
            },
            "colorscale": [
             [
              0,
              "#0d0887"
             ],
             [
              0.1111111111111111,
              "#46039f"
             ],
             [
              0.2222222222222222,
              "#7201a8"
             ],
             [
              0.3333333333333333,
              "#9c179e"
             ],
             [
              0.4444444444444444,
              "#bd3786"
             ],
             [
              0.5555555555555556,
              "#d8576b"
             ],
             [
              0.6666666666666666,
              "#ed7953"
             ],
             [
              0.7777777777777778,
              "#fb9f3a"
             ],
             [
              0.8888888888888888,
              "#fdca26"
             ],
             [
              1,
              "#f0f921"
             ]
            ],
            "type": "histogram2dcontour"
           }
          ],
          "mesh3d": [
           {
            "colorbar": {
             "outlinewidth": 0,
             "ticks": ""
            },
            "type": "mesh3d"
           }
          ],
          "parcoords": [
           {
            "line": {
             "colorbar": {
              "outlinewidth": 0,
              "ticks": ""
             }
            },
            "type": "parcoords"
           }
          ],
          "pie": [
           {
            "automargin": true,
            "type": "pie"
           }
          ],
          "scatter": [
           {
            "fillpattern": {
             "fillmode": "overlay",
             "size": 10,
             "solidity": 0.2
            },
            "type": "scatter"
           }
          ],
          "scatter3d": [
           {
            "line": {
             "colorbar": {
              "outlinewidth": 0,
              "ticks": ""
             }
            },
            "marker": {
             "colorbar": {
              "outlinewidth": 0,
              "ticks": ""
             }
            },
            "type": "scatter3d"
           }
          ],
          "scattercarpet": [
           {
            "marker": {
             "colorbar": {
              "outlinewidth": 0,
              "ticks": ""
             }
            },
            "type": "scattercarpet"
           }
          ],
          "scattergeo": [
           {
            "marker": {
             "colorbar": {
              "outlinewidth": 0,
              "ticks": ""
             }
            },
            "type": "scattergeo"
           }
          ],
          "scattergl": [
           {
            "marker": {
             "colorbar": {
              "outlinewidth": 0,
              "ticks": ""
             }
            },
            "type": "scattergl"
           }
          ],
          "scattermapbox": [
           {
            "marker": {
             "colorbar": {
              "outlinewidth": 0,
              "ticks": ""
             }
            },
            "type": "scattermapbox"
           }
          ],
          "scatterpolar": [
           {
            "marker": {
             "colorbar": {
              "outlinewidth": 0,
              "ticks": ""
             }
            },
            "type": "scatterpolar"
           }
          ],
          "scatterpolargl": [
           {
            "marker": {
             "colorbar": {
              "outlinewidth": 0,
              "ticks": ""
             }
            },
            "type": "scatterpolargl"
           }
          ],
          "scatterternary": [
           {
            "marker": {
             "colorbar": {
              "outlinewidth": 0,
              "ticks": ""
             }
            },
            "type": "scatterternary"
           }
          ],
          "surface": [
           {
            "colorbar": {
             "outlinewidth": 0,
             "ticks": ""
            },
            "colorscale": [
             [
              0,
              "#0d0887"
             ],
             [
              0.1111111111111111,
              "#46039f"
             ],
             [
              0.2222222222222222,
              "#7201a8"
             ],
             [
              0.3333333333333333,
              "#9c179e"
             ],
             [
              0.4444444444444444,
              "#bd3786"
             ],
             [
              0.5555555555555556,
              "#d8576b"
             ],
             [
              0.6666666666666666,
              "#ed7953"
             ],
             [
              0.7777777777777778,
              "#fb9f3a"
             ],
             [
              0.8888888888888888,
              "#fdca26"
             ],
             [
              1,
              "#f0f921"
             ]
            ],
            "type": "surface"
           }
          ],
          "table": [
           {
            "cells": {
             "fill": {
              "color": "#EBF0F8"
             },
             "line": {
              "color": "white"
             }
            },
            "header": {
             "fill": {
              "color": "#C8D4E3"
             },
             "line": {
              "color": "white"
             }
            },
            "type": "table"
           }
          ]
         },
         "layout": {
          "annotationdefaults": {
           "arrowcolor": "#2a3f5f",
           "arrowhead": 0,
           "arrowwidth": 1
          },
          "autotypenumbers": "strict",
          "coloraxis": {
           "colorbar": {
            "outlinewidth": 0,
            "ticks": ""
           }
          },
          "colorscale": {
           "diverging": [
            [
             0,
             "#8e0152"
            ],
            [
             0.1,
             "#c51b7d"
            ],
            [
             0.2,
             "#de77ae"
            ],
            [
             0.3,
             "#f1b6da"
            ],
            [
             0.4,
             "#fde0ef"
            ],
            [
             0.5,
             "#f7f7f7"
            ],
            [
             0.6,
             "#e6f5d0"
            ],
            [
             0.7,
             "#b8e186"
            ],
            [
             0.8,
             "#7fbc41"
            ],
            [
             0.9,
             "#4d9221"
            ],
            [
             1,
             "#276419"
            ]
           ],
           "sequential": [
            [
             0,
             "#0d0887"
            ],
            [
             0.1111111111111111,
             "#46039f"
            ],
            [
             0.2222222222222222,
             "#7201a8"
            ],
            [
             0.3333333333333333,
             "#9c179e"
            ],
            [
             0.4444444444444444,
             "#bd3786"
            ],
            [
             0.5555555555555556,
             "#d8576b"
            ],
            [
             0.6666666666666666,
             "#ed7953"
            ],
            [
             0.7777777777777778,
             "#fb9f3a"
            ],
            [
             0.8888888888888888,
             "#fdca26"
            ],
            [
             1,
             "#f0f921"
            ]
           ],
           "sequentialminus": [
            [
             0,
             "#0d0887"
            ],
            [
             0.1111111111111111,
             "#46039f"
            ],
            [
             0.2222222222222222,
             "#7201a8"
            ],
            [
             0.3333333333333333,
             "#9c179e"
            ],
            [
             0.4444444444444444,
             "#bd3786"
            ],
            [
             0.5555555555555556,
             "#d8576b"
            ],
            [
             0.6666666666666666,
             "#ed7953"
            ],
            [
             0.7777777777777778,
             "#fb9f3a"
            ],
            [
             0.8888888888888888,
             "#fdca26"
            ],
            [
             1,
             "#f0f921"
            ]
           ]
          },
          "colorway": [
           "#636efa",
           "#EF553B",
           "#00cc96",
           "#ab63fa",
           "#FFA15A",
           "#19d3f3",
           "#FF6692",
           "#B6E880",
           "#FF97FF",
           "#FECB52"
          ],
          "font": {
           "color": "#2a3f5f"
          },
          "geo": {
           "bgcolor": "white",
           "lakecolor": "white",
           "landcolor": "#E5ECF6",
           "showlakes": true,
           "showland": true,
           "subunitcolor": "white"
          },
          "hoverlabel": {
           "align": "left"
          },
          "hovermode": "closest",
          "mapbox": {
           "style": "light"
          },
          "paper_bgcolor": "white",
          "plot_bgcolor": "#E5ECF6",
          "polar": {
           "angularaxis": {
            "gridcolor": "white",
            "linecolor": "white",
            "ticks": ""
           },
           "bgcolor": "#E5ECF6",
           "radialaxis": {
            "gridcolor": "white",
            "linecolor": "white",
            "ticks": ""
           }
          },
          "scene": {
           "xaxis": {
            "backgroundcolor": "#E5ECF6",
            "gridcolor": "white",
            "gridwidth": 2,
            "linecolor": "white",
            "showbackground": true,
            "ticks": "",
            "zerolinecolor": "white"
           },
           "yaxis": {
            "backgroundcolor": "#E5ECF6",
            "gridcolor": "white",
            "gridwidth": 2,
            "linecolor": "white",
            "showbackground": true,
            "ticks": "",
            "zerolinecolor": "white"
           },
           "zaxis": {
            "backgroundcolor": "#E5ECF6",
            "gridcolor": "white",
            "gridwidth": 2,
            "linecolor": "white",
            "showbackground": true,
            "ticks": "",
            "zerolinecolor": "white"
           }
          },
          "shapedefaults": {
           "line": {
            "color": "#2a3f5f"
           }
          },
          "ternary": {
           "aaxis": {
            "gridcolor": "white",
            "linecolor": "white",
            "ticks": ""
           },
           "baxis": {
            "gridcolor": "white",
            "linecolor": "white",
            "ticks": ""
           },
           "bgcolor": "#E5ECF6",
           "caxis": {
            "gridcolor": "white",
            "linecolor": "white",
            "ticks": ""
           }
          },
          "title": {
           "x": 0.05
          },
          "xaxis": {
           "automargin": true,
           "gridcolor": "white",
           "linecolor": "white",
           "ticks": "",
           "title": {
            "standoff": 15
           },
           "zerolinecolor": "white",
           "zerolinewidth": 2
          },
          "yaxis": {
           "automargin": true,
           "gridcolor": "white",
           "linecolor": "white",
           "ticks": "",
           "title": {
            "standoff": 15
           },
           "zerolinecolor": "white",
           "zerolinewidth": 2
          }
         }
        },
        "title": {
         "text": "Distribution of Test Results Across Different Age Groups"
        },
        "xaxis": {
         "anchor": "y",
         "autorange": true,
         "domain": [
          0,
          1
         ],
         "range": [
          12.5,
          88.5
         ],
         "title": {
          "text": "Age Group"
         },
         "type": "linear"
        },
        "yaxis": {
         "anchor": "x",
         "autorange": true,
         "domain": [
          0,
          1
         ],
         "range": [
          0,
          27.36842105263158
         ],
         "title": {
          "text": "Number of Test Results"
         },
         "type": "linear"
        }
       }
      },
      "image/png": "[encoded data removed]",
      "text/html": [
       "<div>                            <div id=\"d7b3bcc4-e65f-4a07-bd11-46007d76fa9e\" class=\"plotly-graph-div\" style=\"height:525px; width:100%;\"></div>            <script type=\"text/javascript\">                require([\"plotly\"], function(Plotly) {                    window.PLOTLYENV=window.PLOTLYENV || {};                                    if (document.getElementById(\"d7b3bcc4-e65f-4a07-bd11-46007d76fa9e\")) {                    Plotly.newPlot(                        \"d7b3bcc4-e65f-4a07-bd11-46007d76fa9e\",                        [{\"alignmentgroup\":\"True\",\"hovertemplate\":\"Test Results=Abnormal<br>Age Group=%{x}<br>Number of Test Results=%{text}<extra></extra>\",\"legendgroup\":\"Abnormal\",\"marker\":{\"color\":\"#636efa\",\"pattern\":{\"shape\":\"\"}},\"name\":\"Abnormal\",\"offsetgroup\":\"Abnormal\",\"orientation\":\"v\",\"showlegend\":true,\"text\":[1.0,9.0,6.0,2.0,2.0,2.0,2.0,2.0,5.0,3.0,5.0,5.0,5.0,4.0,4.0,6.0,5.0,6.0,5.0,6.0,2.0,7.0,4.0,4.0,7.0,4.0,3.0,5.0,7.0,6.0,3.0,4.0,6.0,2.0,7.0,3.0,1.0,7.0,5.0,5.0,3.0,4.0,6.0,4.0,9.0,7.0,4.0,9.0,8.0,8.0,5.0,5.0,4.0,3.0,5.0,7.0,6.0,8.0,3.0,9.0,6.0,9.0,5.0,7.0,5.0,6.0,3.0,5.0,3.0,0.0],\"textposition\":\"auto\",\"x\":[13,18,19,20,21,22,23,24,25,26,27,28,29,30,31,32,33,34,35,36,37,38,39,40,41,42,43,44,45,46,47,48,49,50,51,52,53,54,55,56,57,58,59,60,61,62,63,64,65,66,67,68,69,70,71,72,73,74,75,76,77,78,79,80,81,82,83,84,85,88],\"xaxis\":\"x\",\"y\":[1.0,9.0,6.0,2.0,2.0,2.0,2.0,2.0,5.0,3.0,5.0,5.0,5.0,4.0,4.0,6.0,5.0,6.0,5.0,6.0,2.0,7.0,4.0,4.0,7.0,4.0,3.0,5.0,7.0,6.0,3.0,4.0,6.0,2.0,7.0,3.0,1.0,7.0,5.0,5.0,3.0,4.0,6.0,4.0,9.0,7.0,4.0,9.0,8.0,8.0,5.0,5.0,4.0,3.0,5.0,7.0,6.0,8.0,3.0,9.0,6.0,9.0,5.0,7.0,5.0,6.0,3.0,5.0,3.0,0.0],\"yaxis\":\"y\",\"type\":\"bar\"},{\"alignmentgroup\":\"True\",\"hovertemplate\":\"Test Results=Inconclusive<br>Age Group=%{x}<br>Number of Test Results=%{text}<extra></extra>\",\"legendgroup\":\"Inconclusive\",\"marker\":{\"color\":\"#EF553B\",\"pattern\":{\"shape\":\"\"}},\"name\":\"Inconclusive\",\"offsetgroup\":\"Inconclusive\",\"orientation\":\"v\",\"showlegend\":true,\"text\":[0.0,1.0,0.0,3.0,3.0,5.0,5.0,4.0,3.0,5.0,4.0,6.0,6.0,5.0,2.0,7.0,8.0,3.0,4.0,4.0,6.0,4.0,5.0,5.0,4.0,6.0,5.0,6.0,4.0,5.0,1.0,5.0,4.0,1.0,4.0,3.0,6.0,4.0,5.0,7.0,6.0,3.0,4.0,2.0,4.0,9.0,4.0,5.0,7.0,3.0,6.0,3.0,9.0,6.0,5.0,6.0,6.0,9.0,4.0,3.0,2.0,7.0,9.0,3.0,7.0,4.0,6.0,2.0,2.0,1.0],\"textposition\":\"auto\",\"x\":[13,18,19,20,21,22,23,24,25,26,27,28,29,30,31,32,33,34,35,36,37,38,39,40,41,42,43,44,45,46,47,48,49,50,51,52,53,54,55,56,57,58,59,60,61,62,63,64,65,66,67,68,69,70,71,72,73,74,75,76,77,78,79,80,81,82,83,84,85,88],\"xaxis\":\"x\",\"y\":[0.0,1.0,0.0,3.0,3.0,5.0,5.0,4.0,3.0,5.0,4.0,6.0,6.0,5.0,2.0,7.0,8.0,3.0,4.0,4.0,6.0,4.0,5.0,5.0,4.0,6.0,5.0,6.0,4.0,5.0,1.0,5.0,4.0,1.0,4.0,3.0,6.0,4.0,5.0,7.0,6.0,3.0,4.0,2.0,4.0,9.0,4.0,5.0,7.0,3.0,6.0,3.0,9.0,6.0,5.0,6.0,6.0,9.0,4.0,3.0,2.0,7.0,9.0,3.0,7.0,4.0,6.0,2.0,2.0,1.0],\"yaxis\":\"y\",\"type\":\"bar\"},{\"alignmentgroup\":\"True\",\"hovertemplate\":\"Test Results=Normal<br>Age Group=%{x}<br>Number of Test Results=%{text}<extra></extra>\",\"legendgroup\":\"Normal\",\"marker\":{\"color\":\"#00cc96\",\"pattern\":{\"shape\":\"\"}},\"name\":\"Normal\",\"offsetgroup\":\"Normal\",\"orientation\":\"v\",\"showlegend\":true,\"text\":[0.0,4.0,2.0,4.0,8.0,2.0,4.0,8.0,4.0,5.0,7.0,4.0,4.0,9.0,6.0,4.0,7.0,6.0,2.0,7.0,7.0,2.0,5.0,2.0,4.0,4.0,5.0,5.0,4.0,1.0,5.0,6.0,5.0,4.0,5.0,3.0,6.0,3.0,6.0,5.0,4.0,3.0,6.0,4.0,8.0,4.0,3.0,5.0,6.0,5.0,7.0,4.0,6.0,5.0,1.0,4.0,4.0,9.0,6.0,7.0,5.0,6.0,4.0,2.0,7.0,6.0,6.0,5.0,2.0,0.0],\"textposition\":\"auto\",\"x\":[13,18,19,20,21,22,23,24,25,26,27,28,29,30,31,32,33,34,35,36,37,38,39,40,41,42,43,44,45,46,47,48,49,50,51,52,53,54,55,56,57,58,59,60,61,62,63,64,65,66,67,68,69,70,71,72,73,74,75,76,77,78,79,80,81,82,83,84,85,88],\"xaxis\":\"x\",\"y\":[0.0,4.0,2.0,4.0,8.0,2.0,4.0,8.0,4.0,5.0,7.0,4.0,4.0,9.0,6.0,4.0,7.0,6.0,2.0,7.0,7.0,2.0,5.0,2.0,4.0,4.0,5.0,5.0,4.0,1.0,5.0,6.0,5.0,4.0,5.0,3.0,6.0,3.0,6.0,5.0,4.0,3.0,6.0,4.0,8.0,4.0,3.0,5.0,6.0,5.0,7.0,4.0,6.0,5.0,1.0,4.0,4.0,9.0,6.0,7.0,5.0,6.0,4.0,2.0,7.0,6.0,6.0,5.0,2.0,0.0],\"yaxis\":\"y\",\"type\":\"bar\"}],                        {\"template\":{\"data\":{\"histogram2dcontour\":[{\"type\":\"histogram2dcontour\",\"colorbar\":{\"outlinewidth\":0,\"ticks\":\"\"},\"colorscale\":[[0.0,\"#0d0887\"],[0.1111111111111111,\"#46039f\"],[0.2222222222222222,\"#7201a8\"],[0.3333333333333333,\"#9c179e\"],[0.4444444444444444,\"#bd3786\"],[0.5555555555555556,\"#d8576b\"],[0.6666666666666666,\"#ed7953\"],[0.7777777777777778,\"#fb9f3a\"],[0.8888888888888888,\"#fdca26\"],[1.0,\"#f0f921\"]]}],\"choropleth\":[{\"type\":\"choropleth\",\"colorbar\":{\"outlinewidth\":0,\"ticks\":\"\"}}],\"histogram2d\":[{\"type\":\"histogram2d\",\"colorbar\":{\"outlinewidth\":0,\"ticks\":\"\"},\"colorscale\":[[0.0,\"#0d0887\"],[0.1111111111111111,\"#46039f\"],[0.2222222222222222,\"#7201a8\"],[0.3333333333333333,\"#9c179e\"],[0.4444444444444444,\"#bd3786\"],[0.5555555555555556,\"#d8576b\"],[0.6666666666666666,\"#ed7953\"],[0.7777777777777778,\"#fb9f3a\"],[0.8888888888888888,\"#fdca26\"],[1.0,\"#f0f921\"]]}],\"heatmap\":[{\"type\":\"heatmap\",\"colorbar\":{\"outlinewidth\":0,\"ticks\":\"\"},\"colorscale\":[[0.0,\"#0d0887\"],[0.1111111111111111,\"#46039f\"],[0.2222222222222222,\"#7201a8\"],[0.3333333333333333,\"#9c179e\"],[0.4444444444444444,\"#bd3786\"],[0.5555555555555556,\"#d8576b\"],[0.6666666666666666,\"#ed7953\"],[0.7777777777777778,\"#fb9f3a\"],[0.8888888888888888,\"#fdca26\"],[1.0,\"#f0f921\"]]}],\"heatmapgl\":[{\"type\":\"heatmapgl\",\"colorbar\":{\"outlinewidth\":0,\"ticks\":\"\"},\"colorscale\":[[0.0,\"#0d0887\"],[0.1111111111111111,\"#46039f\"],[0.2222222222222222,\"#7201a8\"],[0.3333333333333333,\"#9c179e\"],[0.4444444444444444,\"#bd3786\"],[0.5555555555555556,\"#d8576b\"],[0.6666666666666666,\"#ed7953\"],[0.7777777777777778,\"#fb9f3a\"],[0.8888888888888888,\"#fdca26\"],[1.0,\"#f0f921\"]]}],\"contourcarpet\":[{\"type\":\"contourcarpet\",\"colorbar\":{\"outlinewidth\":0,\"ticks\":\"\"}}],\"contour\":[{\"type\":\"contour\",\"colorbar\":{\"outlinewidth\":0,\"ticks\":\"\"},\"colorscale\":[[0.0,\"#0d0887\"],[0.1111111111111111,\"#46039f\"],[0.2222222222222222,\"#7201a8\"],[0.3333333333333333,\"#9c179e\"],[0.4444444444444444,\"#bd3786\"],[0.5555555555555556,\"#d8576b\"],[0.6666666666666666,\"#ed7953\"],[0.7777777777777778,\"#fb9f3a\"],[0.8888888888888888,\"#fdca26\"],[1.0,\"#f0f921\"]]}],\"surface\":[{\"type\":\"surface\",\"colorbar\":{\"outlinewidth\":0,\"ticks\":\"\"},\"colorscale\":[[0.0,\"#0d0887\"],[0.1111111111111111,\"#46039f\"],[0.2222222222222222,\"#7201a8\"],[0.3333333333333333,\"#9c179e\"],[0.4444444444444444,\"#bd3786\"],[0.5555555555555556,\"#d8576b\"],[0.6666666666666666,\"#ed7953\"],[0.7777777777777778,\"#fb9f3a\"],[0.8888888888888888,\"#fdca26\"],[1.0,\"#f0f921\"]]}],\"mesh3d\":[{\"type\":\"mesh3d\",\"colorbar\":{\"outlinewidth\":0,\"ticks\":\"\"}}],\"scatter\":[{\"fillpattern\":{\"fillmode\":\"overlay\",\"size\":10,\"solidity\":0.2},\"type\":\"scatter\"}],\"parcoords\":[{\"type\":\"parcoords\",\"line\":{\"colorbar\":{\"outlinewidth\":0,\"ticks\":\"\"}}}],\"scatterpolargl\":[{\"type\":\"scatterpolargl\",\"marker\":{\"colorbar\":{\"outlinewidth\":0,\"ticks\":\"\"}}}],\"bar\":[{\"error_x\":{\"color\":\"#2a3f5f\"},\"error_y\":{\"color\":\"#2a3f5f\"},\"marker\":{\"line\":{\"color\":\"#E5ECF6\",\"width\":0.5},\"pattern\":{\"fillmode\":\"overlay\",\"size\":10,\"solidity\":0.2}},\"type\":\"bar\"}],\"scattergeo\":[{\"type\":\"scattergeo\",\"marker\":{\"colorbar\":{\"outlinewidth\":0,\"ticks\":\"\"}}}],\"scatterpolar\":[{\"type\":\"scatterpolar\",\"marker\":{\"colorbar\":{\"outlinewidth\":0,\"ticks\":\"\"}}}],\"histogram\":[{\"marker\":{\"pattern\":{\"fillmode\":\"overlay\",\"size\":10,\"solidity\":0.2}},\"type\":\"histogram\"}],\"scattergl\":[{\"type\":\"scattergl\",\"marker\":{\"colorbar\":{\"outlinewidth\":0,\"ticks\":\"\"}}}],\"scatter3d\":[{\"type\":\"scatter3d\",\"line\":{\"colorbar\":{\"outlinewidth\":0,\"ticks\":\"\"}},\"marker\":{\"colorbar\":{\"outlinewidth\":0,\"ticks\":\"\"}}}],\"scattermapbox\":[{\"type\":\"scattermapbox\",\"marker\":{\"colorbar\":{\"outlinewidth\":0,\"ticks\":\"\"}}}],\"scatterternary\":[{\"type\":\"scatterternary\",\"marker\":{\"colorbar\":{\"outlinewidth\":0,\"ticks\":\"\"}}}],\"scattercarpet\":[{\"type\":\"scattercarpet\",\"marker\":{\"colorbar\":{\"outlinewidth\":0,\"ticks\":\"\"}}}],\"carpet\":[{\"aaxis\":{\"endlinecolor\":\"#2a3f5f\",\"gridcolor\":\"white\",\"linecolor\":\"white\",\"minorgridcolor\":\"white\",\"startlinecolor\":\"#2a3f5f\"},\"baxis\":{\"endlinecolor\":\"#2a3f5f\",\"gridcolor\":\"white\",\"linecolor\":\"white\",\"minorgridcolor\":\"white\",\"startlinecolor\":\"#2a3f5f\"},\"type\":\"carpet\"}],\"table\":[{\"cells\":{\"fill\":{\"color\":\"#EBF0F8\"},\"line\":{\"color\":\"white\"}},\"header\":{\"fill\":{\"color\":\"#C8D4E3\"},\"line\":{\"color\":\"white\"}},\"type\":\"table\"}],\"barpolar\":[{\"marker\":{\"line\":{\"color\":\"#E5ECF6\",\"width\":0.5},\"pattern\":{\"fillmode\":\"overlay\",\"size\":10,\"solidity\":0.2}},\"type\":\"barpolar\"}],\"pie\":[{\"automargin\":true,\"type\":\"pie\"}]},\"layout\":{\"autotypenumbers\":\"strict\",\"colorway\":[\"#636efa\",\"#EF553B\",\"#00cc96\",\"#ab63fa\",\"#FFA15A\",\"#19d3f3\",\"#FF6692\",\"#B6E880\",\"#FF97FF\",\"#FECB52\"],\"font\":{\"color\":\"#2a3f5f\"},\"hovermode\":\"closest\",\"hoverlabel\":{\"align\":\"left\"},\"paper_bgcolor\":\"white\",\"plot_bgcolor\":\"#E5ECF6\",\"polar\":{\"bgcolor\":\"#E5ECF6\",\"angularaxis\":{\"gridcolor\":\"white\",\"linecolor\":\"white\",\"ticks\":\"\"},\"radialaxis\":{\"gridcolor\":\"white\",\"linecolor\":\"white\",\"ticks\":\"\"}},\"ternary\":{\"bgcolor\":\"#E5ECF6\",\"aaxis\":{\"gridcolor\":\"white\",\"linecolor\":\"white\",\"ticks\":\"\"},\"baxis\":{\"gridcolor\":\"white\",\"linecolor\":\"white\",\"ticks\":\"\"},\"caxis\":{\"gridcolor\":\"white\",\"linecolor\":\"white\",\"ticks\":\"\"}},\"coloraxis\":{\"colorbar\":{\"outlinewidth\":0,\"ticks\":\"\"}},\"colorscale\":{\"sequential\":[[0.0,\"#0d0887\"],[0.1111111111111111,\"#46039f\"],[0.2222222222222222,\"#7201a8\"],[0.3333333333333333,\"#9c179e\"],[0.4444444444444444,\"#bd3786\"],[0.5555555555555556,\"#d8576b\"],[0.6666666666666666,\"#ed7953\"],[0.7777777777777778,\"#fb9f3a\"],[0.8888888888888888,\"#fdca26\"],[1.0,\"#f0f921\"]],\"sequentialminus\":[[0.0,\"#0d0887\"],[0.1111111111111111,\"#46039f\"],[0.2222222222222222,\"#7201a8\"],[0.3333333333333333,\"#9c179e\"],[0.4444444444444444,\"#bd3786\"],[0.5555555555555556,\"#d8576b\"],[0.6666666666666666,\"#ed7953\"],[0.7777777777777778,\"#fb9f3a\"],[0.8888888888888888,\"#fdca26\"],[1.0,\"#f0f921\"]],\"diverging\":[[0,\"#8e0152\"],[0.1,\"#c51b7d\"],[0.2,\"#de77ae\"],[0.3,\"#f1b6da\"],[0.4,\"#fde0ef\"],[0.5,\"#f7f7f7\"],[0.6,\"#e6f5d0\"],[0.7,\"#b8e186\"],[0.8,\"#7fbc41\"],[0.9,\"#4d9221\"],[1,\"#276419\"]]},\"xaxis\":{\"gridcolor\":\"white\",\"linecolor\":\"white\",\"ticks\":\"\",\"title\":{\"standoff\":15},\"zerolinecolor\":\"white\",\"automargin\":true,\"zerolinewidth\":2},\"yaxis\":{\"gridcolor\":\"white\",\"linecolor\":\"white\",\"ticks\":\"\",\"title\":{\"standoff\":15},\"zerolinecolor\":\"white\",\"automargin\":true,\"zerolinewidth\":2},\"scene\":{\"xaxis\":{\"backgroundcolor\":\"#E5ECF6\",\"gridcolor\":\"white\",\"linecolor\":\"white\",\"showbackground\":true,\"ticks\":\"\",\"zerolinecolor\":\"white\",\"gridwidth\":2},\"yaxis\":{\"backgroundcolor\":\"#E5ECF6\",\"gridcolor\":\"white\",\"linecolor\":\"white\",\"showbackground\":true,\"ticks\":\"\",\"zerolinecolor\":\"white\",\"gridwidth\":2},\"zaxis\":{\"backgroundcolor\":\"#E5ECF6\",\"gridcolor\":\"white\",\"linecolor\":\"white\",\"showbackground\":true,\"ticks\":\"\",\"zerolinecolor\":\"white\",\"gridwidth\":2}},\"shapedefaults\":{\"line\":{\"color\":\"#2a3f5f\"}},\"annotationdefaults\":{\"arrowcolor\":\"#2a3f5f\",\"arrowhead\":0,\"arrowwidth\":1},\"geo\":{\"bgcolor\":\"white\",\"landcolor\":\"#E5ECF6\",\"subunitcolor\":\"white\",\"showland\":true,\"showlakes\":true,\"lakecolor\":\"white\"},\"title\":{\"x\":0.05},\"mapbox\":{\"style\":\"light\"}}},\"xaxis\":{\"anchor\":\"y\",\"domain\":[0.0,1.0],\"title\":{\"text\":\"Age Group\"}},\"yaxis\":{\"anchor\":\"x\",\"domain\":[0.0,1.0],\"title\":{\"text\":\"Number of Test Results\"}},\"legend\":{\"title\":{\"text\":\"Test Results\"},\"tracegroupgap\":0},\"title\":{\"text\":\"Distribution of Test Results Across Different Age Groups\"},\"barmode\":\"relative\"},                        {\"responsive\": true}                    ).then(function(){\n",
       "                            \n",
       "var gd = document.getElementById('d7b3bcc4-e65f-4a07-bd11-46007d76fa9e');\n",
       "var x = new MutationObserver(function (mutations, observer) {{\n",
       "        var display = window.getComputedStyle(gd).display;\n",
       "        if (!display || display === 'none') {{\n",
       "            console.log([gd, 'removed!']);\n",
       "            Plotly.purge(gd);\n",
       "            observer.disconnect();\n",
       "        }}\n",
       "}});\n",
       "\n",
       "// Listen for the removal of the full notebook cells\n",
       "var notebookContainer = gd.closest('#notebook-container');\n",
       "if (notebookContainer) {{\n",
       "    x.observe(notebookContainer, {childList: true});\n",
       "}}\n",
       "\n",
       "// Listen for the clearing of the current output cell\n",
       "var outputEl = gd.closest('.output');\n",
       "if (outputEl) {{\n",
       "    x.observe(outputEl, {childList: true});\n",
       "}}\n",
       "\n",
       "                        })                };                });            </script>        </div>"
      ]
     },
     "metadata": {},
     "output_type": "display_data"
    }
   ],
   "source": [
    "\n",
    "df['Age'] = df['Age'].astype(int)\n",
    "df['Billing Amount'] = df['Billing Amount'].astype(float)\n",
    "df['Date of Admission'] = pd.to_datetime(df['Date of Admission'])\n",
    "df['Discharge Date'] = pd.to_datetime(df['Discharge Date'])\n",
    "\n",
    "# Display basic statistics\n",
    "print(df.describe())\n",
    "\n",
    "# Create ColumnDataSource\n",
    "source = ColumnDataSource(df)\n",
    "\n",
    "# 1. Age Distribution Histogram\n",
    "p1 = figure(title=\"Age Distribution\", x_axis_label=\"Age\", y_axis_label=\"Count\", \n",
    "            width=400, height=300, toolbar_location=None)\n",
    "hist, edges = np.histogram(df['Age'], bins=10)\n",
    "p1.quad(top=hist, bottom=0, left=edges[:-1], right=edges[1:], fill_color=\"navy\", line_color=\"white\", alpha=0.7)\n",
    "p1.add_tools(HoverTool(tooltips=[(\"Age\", \"@left\"), (\"Count\", \"@top\")]))\n",
    "\n",
    "# 2. Medical Condition Bar Chart\n",
    "condition_counts = df['Medical Condition'].value_counts()\n",
    "p2 = figure(title=\"Medical Conditions\", x_range=condition_counts.index.tolist(), \n",
    "            width=400, height=300, toolbar_location=None)\n",
    "p2.vbar(x='Medical Condition', top='count', width=0.9, source=ColumnDataSource(condition_counts.reset_index()),\n",
    "        line_color='white', fill_color=factor_cmap('Medical Condition', palette=Spectral10, factors=condition_counts.index.tolist()))\n",
    "p2.xgrid.grid_line_color = None\n",
    "p2.y_range.start = 0\n",
    "p2.xaxis.axis_label = \"Medical Condition\"\n",
    "p2.yaxis.axis_label = \"Count\"\n",
    "p2.xaxis.major_label_orientation = 0.7\n",
    "p2.add_tools(HoverTool(tooltips=[(\"Condition\", \"@Medical_Condition\"), (\"Count\", \"@count\")]))\n",
    "\n",
    "# 3. Billing Amount vs Age Scatter Plot\n",
    "p3 = figure(title=\"Billing Amount vs Age\", x_axis_label=\"Age\", y_axis_label=\"Billing Amount\", \n",
    "            width=400, height=300, toolbar_location=None)\n",
    "p3.circle('Age', 'Billing Amount', size=10, color=\"navy\", alpha=0.5, source=source)\n",
    "p3.add_tools(HoverTool(tooltips=[(\"Name\", \"@First_name @Last_name\"), (\"Age\", \"@Age\"), (\"Billing Amount\", \"@{Billing Amount}{0,0.00}\")]))\n",
    "\n",
    "# 4. Gender Distribution Pie Chart\n",
    "gender_counts = df['Gender'].value_counts()\n",
    "num_genders = len(gender_counts)\n",
    "\n",
    "# Create a color iterator that cycles through colors if we have more categories than colors\n",
    "color_iterator = itertools.cycle(Category20[20])  # Use Category20 for more color options\n",
    "\n",
    "gender_source = ColumnDataSource(dict(\n",
    "    gender=gender_counts.index,\n",
    "    count=gender_counts.values,\n",
    "    angle=gender_counts.values / gender_counts.sum() * 2*math.pi,\n",
    "    color=[next(color_iterator) for _ in range(num_genders)]  # Assign colors dynamically\n",
    "))\n",
    "\n",
    "p4 = figure(title=\"Gender Distribution\", toolbar_location=None, tools=\"hover\", tooltips=\"@gender: @count\", x_range=(-0.5, 1.0))\n",
    "p4.wedge(x=0, y=1, radius=0.4, start_angle=cumsum('angle', include_zero=True), end_angle=cumsum('angle'),\n",
    "         line_color=\"white\", fill_color='color', legend_field='gender', source=gender_source)\n",
    "p4.axis.axis_label = None\n",
    "p4.axis.visible = False\n",
    "p4.grid.grid_line_color = None\n",
    "\n",
    "# Adjust legend if there are many categories\n",
    "if num_genders > 10:\n",
    "    p4.legend.orientation = \"horizontal\"\n",
    "    p4.legend.location = \"bottom_center\"\n",
    "else:\n",
    "    p4.legend.location = \"right\"\n",
    "# 5. Time Series Plot of Admissions\n",
    "df_sorted = df.sort_values('Date of Admission')\n",
    "df_sorted['Cumulative Admissions'] = range(1, len(df_sorted) + 1)\n",
    "p5 = figure(title=\"Cumulative Admissions Over Time\", x_axis_label=\"Date\", y_axis_label=\"Cumulative Admissions\", \n",
    "            width=800, height=300, x_axis_type=\"datetime\", toolbar_location=None)\n",
    "p5.line(x='Date of Admission', y='Cumulative Admissions', line_width=2, color=\"navy\", source=ColumnDataSource(df_sorted))\n",
    "p5.add_tools(HoverTool(tooltips=[(\"Date\", \"@Date_of_Admission{%F}\"), (\"Admissions\", \"@Cumulative_Admissions\")], formatters={\"@Date_of_Admission\": \"datetime\"}))\n",
    "\n",
    "# Interactive Widgets\n",
    "condition_select = Select(title=\"Select Medical Condition\", value=\"All\", options=[\"All\"] + df['Medical Condition'].unique().tolist())\n",
    "date_range_slider = DateRangeSlider(title=\"Date Range\", start=df['Date of Admission'].min(), end=df['Date of Admission'].max(), value=(df['Date of Admission'].min(), df['Date of Admission'].max()), step=1)\n",
    "\n",
    "# Callback function for interactive filtering\n",
    "def update_plots(attr, old, new):\n",
    "    selected_condition = condition_select.value\n",
    "    start_date, end_date = date_range_slider.value\n",
    "    \n",
    "    filtered_df = df[\n",
    "        (df['Date of Admission'] >= pd.Timestamp(start_date)) &\n",
    "        (df['Date of Admission'] <= pd.Timestamp(end_date))\n",
    "    ]\n",
    "    \n",
    "    if selected_condition != \"All\":\n",
    "        filtered_df = filtered_df[filtered_df['Medical Condition'] == selected_condition]\n",
    "    \n",
    "    new_source = ColumnDataSource(filtered_df)\n",
    "    source.data.update(new_source.data)\n",
    "    \n",
    "    # Update other plots as needed\n",
    "    # For example, updating the age distribution plot:\n",
    "    hist, edges = np.histogram(filtered_df['Age'], bins=10)\n",
    "    p1.quad(top=hist, bottom=0, left=edges[:-1], right=edges[1:], fill_color=\"navy\", line_color=\"white\", alpha=0.7)\n",
    "\n",
    "condition_select.on_change('value', update_plots)\n",
    "date_range_slider.on_change('value', update_plots)\n",
    "\n",
    "# Advanced Statistical Analysis\n",
    "def perform_statistical_analysis(df):\n",
    "    # Correlation between Age and Billing Amount\n",
    "    correlation = df['Age'].corr(df['Billing Amount'])\n",
    "    \n",
    "    # T-test: Billing Amount difference between genders\n",
    "    female_billing = df[df['Gender'] == 'Female']['Billing Amount']\n",
    "    male_billing = df[df['Gender'] == 'Male']['Billing Amount']\n",
    "    t_stat, p_value = stats.ttest_ind(female_billing, male_billing)\n",
    "    \n",
    "    # ANOVA: Billing Amount differences among Medical Conditions\n",
    "    conditions = df['Medical Condition'].unique()\n",
    "    condition_groups = [df[df['Medical Condition'] == condition]['Billing Amount'] for condition in conditions]\n",
    "    f_stat, p_value_anova = stats.f_oneway(*condition_groups)\n",
    "    \n",
    "    return f\"Correlation between Age and Billing Amount: {correlation:.2f}\\n\" \\\n",
    "           f\"T-test for Billing Amount difference between genders: t-statistic = {t_stat:.2f}, p-value = {p_value:.4f}\\n\" \\\n",
    "           f\"ANOVA for Billing Amount differences among Medical Conditions: F-statistic = {f_stat:.2f}, p-value = {p_value_anova:.4f}\"\n",
    "\n",
    "stats_results = perform_statistical_analysis(df)\n",
    "print(stats_results)\n",
    "\n",
    "# Layout\n",
    "layout = column(\n",
    "    row(condition_select, date_range_slider),\n",
    "    row(p1, p2, p3),\n",
    "    row(p4, p5),\n",
    "    sizing_mode=\"stretch_both\"\n",
    ")\n",
    "\n",
    "show(layout)\n",
    "\n",
    "# Group by 'Age' and 'Test Results', then count occurrences\n",
    "age_test_distribution = df.groupby(['Age', 'Test Results']).size().reset_index(name='Count')\n",
    "# Create a pivot table for stacked bar chart\n",
    "pivot_table = age_test_distribution.pivot(index='Age', columns='Test Results', values='Count').fillna(0)\n",
    "# Reset index to use 'Age' as a column\n",
    "pivot_table.reset_index(inplace=True)\n",
    "# Melt the pivot table for Plotly compatibility\n",
    "melted_df = pivot_table.melt(id_vars='Age', var_name='Test Results', value_name='Count')\n",
    "# Create the interactive stacked bar chart\n",
    "fig = px.bar(melted_df, x='Age', y='Count', color='Test Results',\n",
    "             title='Distribution of Test Results Across Different Age Groups',\n",
    "             labels={'Count': 'Number of Test Results', 'Age': 'Age Group'},\n",
    "             text='Count')\n",
    "# Show the plot\n",
    "fig.show()\n",
    "\n"
   ]
  },
  {
   "cell_type": "code",
   "execution_count": null,
   "id": "da72b80c-6ee0-484f-bd46-fc9494009f57",
   "metadata": {},
   "outputs": [],
   "source": []
  }
 ],
 "metadata": {
  "kernelspec": {
   "display_name": "Python 3 (ipykernel)",
   "language": "python",
   "name": "python3"
  },
  "language_info": {
   "codemirror_mode": {
    "name": "ipython",
    "version": 3
   },
   "file_extension": ".py",
   "mimetype": "text/x-python",
   "name": "python",
   "nbconvert_exporter": "python",
   "pygments_lexer": "ipython3",
   "version": "3.11.7"
  }
 },
 "nbformat": 4,
 "nbformat_minor": 5
}
